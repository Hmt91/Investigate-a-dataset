{
 "cells": [
  {
   "cell_type": "markdown",
   "metadata": {},
   "source": [
    "<img style=\"transform: ; width:1000px\" src=\"IMDb_FeaturedImage.jpg\" alt=\"imdb\" title=\"Title text\" />\n"
   ]
  },
  {
   "cell_type": "markdown",
   "metadata": {},
   "source": [
    ">>>#                                   Investigate a The Movie Database (TMDb)\n"
   ]
  },
  {
   "cell_type": "markdown",
   "metadata": {},
   "source": [
    "##                                     Project 2 - by Hanan AlTuwaijri"
   ]
  },
  {
   "cell_type": "markdown",
   "metadata": {},
   "source": [
    "\n",
    "\n",
    "\n",
    "## Table of Contents\n",
    "<ul>\n",
    "<li><a href=\"#intro\">Introduction</a></li>\n",
    "<li><a href=\"#wrangling\">Data Wrangling</a></li>\n",
    "<li><a href=\"#eda\">Exploratory Data Analysis</a></li>\n",
    "<li><a href=\"#conclusions\">Conclusions</a></li>\n",
    "</ul>"
   ]
  },
  {
   "cell_type": "markdown",
   "metadata": {},
   "source": [
    "<a id='intro'></a>\n",
    "## Introduction\n",
    "\n",
    "> **Data Overview**: \n",
    ">\n",
    ">This data set contains information about 10,000 movies collected from The Movie Database (TMDb),including user ratings and revenue..\n",
    ">\n",
    ">    *It's cleaned from original data on Kaggle.\n",
    ">\n",
    ">● Certain columns, like ‘cast’ and ‘genres’, contain multiple values separated by pipe (|) characters.\n",
    "\n",
    ">● There are some odd characters in the ‘cast’ column.\n",
    "\n",
    ">● The final two columns ending with “_adj” show the budget and revenue of the associated movie in terms of 2010 dollars, accounting for inflation over time.\n",
    "\n",
    ">\n",
    ">\n",
    ">    \n",
    ">    \n",
    ">**I will analysis this dataset to Find \"the success of a movie\" from two perspectives :**\\\n",
    "> 1- Commercial Success (What kinds of properties are associated with movies that have high profits?)\\\n",
    "  2- Popularity Success (What kinds of properties are associated with movies that have high Score?)\n",
    "  \n",
    "  \n",
    "> And I will explore the data with this general Questions:\n",
    ">  \n",
    ">\n",
    ">. Which genres are most popular from year to year?\n",
    ">\n",
    ">. Who is the actor/s with highest movie revenues?\n",
    ">\n",
    ">. Which company have the most movies productivity ?\n",
    ">\n",
    "\n"
   ]
  },
  {
   "cell_type": "code",
   "execution_count": 1,
   "metadata": {},
   "outputs": [],
   "source": [
    "#import the libraries \n",
    "\n",
    "import pandas as pd\n",
    "import numpy as np\n",
    "import seaborn as sns\n",
    "import matplotlib.pyplot as plt\n",
    "%matplotlib inline\n",
    "#CSS = \"\"\"\n",
    "#.output {\n",
    "#    flex-direction: row;\n",
    "#}\n",
    "#\"\"\"\n",
    "#HTML('<style>{}</style>'.format(CSS))"
   ]
  },
  {
   "cell_type": "markdown",
   "metadata": {},
   "source": [
    "<a id='wrangling'></a>\n",
    "## Data Wrangling\n",
    "<li><a href=\"#Assessing\">Assessing Data</a></li> \n",
    "<li><a href=\"#Cleaning\">Data Cleaning</a></li> \n",
    "</ul>"
   ]
  },
  {
   "cell_type": "markdown",
   "metadata": {},
   "source": [
    "<a id='Assessing'></a>\n",
    "\n",
    "\n",
    "\n",
    "\n",
    "### General Properties ( Assessing Data )\n",
    "\n",
    "<ul>\n",
    "<li><a href=\"#shape\">Number of samples & columns in the dataset</a></li>\n",
    "<li><a href=\"#Datatypes\">Datatypes of the columns</a></li>\n",
    "<li><a href=\"#Descriptive\">Descriptive statistics for the dataset</a></li>\n",
    "<li><a href=\"#missing\">Features with missing values</a></li>\n",
    "<li><a href=\"#zero\">Features with zero values</a></li>  \n",
    "<li><a href=\"#unique\">Number of unique values for the dataset</a></li>\n",
    "<li><a href=\"#Duplicate\"> Duplicate rows in the dataset</a></li>\n",
    "<li><a href=\"#rowsM\">Number of rows with missing values in the dataset</a></li>\n",
    "\n",
    "<li><a href=\"#Observations\">Observations</a></li> \n",
    "\n",
    "</ul>\n"
   ]
  },
  {
   "cell_type": "code",
   "execution_count": 2,
   "metadata": {},
   "outputs": [
    {
     "data": {
      "text/html": [
       "<div>\n",
       "<style scoped>\n",
       "    .dataframe tbody tr th:only-of-type {\n",
       "        vertical-align: middle;\n",
       "    }\n",
       "\n",
       "    .dataframe tbody tr th {\n",
       "        vertical-align: top;\n",
       "    }\n",
       "\n",
       "    .dataframe thead th {\n",
       "        text-align: right;\n",
       "    }\n",
       "</style>\n",
       "<table border=\"1\" class=\"dataframe\">\n",
       "  <thead>\n",
       "    <tr style=\"text-align: right;\">\n",
       "      <th></th>\n",
       "      <th>id</th>\n",
       "      <th>imdb_id</th>\n",
       "      <th>popularity</th>\n",
       "      <th>budget</th>\n",
       "      <th>revenue</th>\n",
       "      <th>original_title</th>\n",
       "      <th>cast</th>\n",
       "      <th>homepage</th>\n",
       "      <th>director</th>\n",
       "      <th>tagline</th>\n",
       "      <th>...</th>\n",
       "      <th>overview</th>\n",
       "      <th>runtime</th>\n",
       "      <th>genres</th>\n",
       "      <th>production_companies</th>\n",
       "      <th>release_date</th>\n",
       "      <th>vote_count</th>\n",
       "      <th>vote_average</th>\n",
       "      <th>release_year</th>\n",
       "      <th>budget_adj</th>\n",
       "      <th>revenue_adj</th>\n",
       "    </tr>\n",
       "  </thead>\n",
       "  <tbody>\n",
       "    <tr>\n",
       "      <th>0</th>\n",
       "      <td>135397</td>\n",
       "      <td>tt0369610</td>\n",
       "      <td>32.985763</td>\n",
       "      <td>150000000</td>\n",
       "      <td>1513528810</td>\n",
       "      <td>Jurassic World</td>\n",
       "      <td>Chris Pratt|Bryce Dallas Howard|Irrfan Khan|Vi...</td>\n",
       "      <td>http://www.jurassicworld.com/</td>\n",
       "      <td>Colin Trevorrow</td>\n",
       "      <td>The park is open.</td>\n",
       "      <td>...</td>\n",
       "      <td>Twenty-two years after the events of Jurassic ...</td>\n",
       "      <td>124</td>\n",
       "      <td>Action|Adventure|Science Fiction|Thriller</td>\n",
       "      <td>Universal Studios|Amblin Entertainment|Legenda...</td>\n",
       "      <td>6/9/15</td>\n",
       "      <td>5562</td>\n",
       "      <td>6.5</td>\n",
       "      <td>2015</td>\n",
       "      <td>1.379999e+08</td>\n",
       "      <td>1.392446e+09</td>\n",
       "    </tr>\n",
       "    <tr>\n",
       "      <th>1</th>\n",
       "      <td>76341</td>\n",
       "      <td>tt1392190</td>\n",
       "      <td>28.419936</td>\n",
       "      <td>150000000</td>\n",
       "      <td>378436354</td>\n",
       "      <td>Mad Max: Fury Road</td>\n",
       "      <td>Tom Hardy|Charlize Theron|Hugh Keays-Byrne|Nic...</td>\n",
       "      <td>http://www.madmaxmovie.com/</td>\n",
       "      <td>George Miller</td>\n",
       "      <td>What a Lovely Day.</td>\n",
       "      <td>...</td>\n",
       "      <td>An apocalyptic story set in the furthest reach...</td>\n",
       "      <td>120</td>\n",
       "      <td>Action|Adventure|Science Fiction|Thriller</td>\n",
       "      <td>Village Roadshow Pictures|Kennedy Miller Produ...</td>\n",
       "      <td>5/13/15</td>\n",
       "      <td>6185</td>\n",
       "      <td>7.1</td>\n",
       "      <td>2015</td>\n",
       "      <td>1.379999e+08</td>\n",
       "      <td>3.481613e+08</td>\n",
       "    </tr>\n",
       "    <tr>\n",
       "      <th>2</th>\n",
       "      <td>262500</td>\n",
       "      <td>tt2908446</td>\n",
       "      <td>13.112507</td>\n",
       "      <td>110000000</td>\n",
       "      <td>295238201</td>\n",
       "      <td>Insurgent</td>\n",
       "      <td>Shailene Woodley|Theo James|Kate Winslet|Ansel...</td>\n",
       "      <td>http://www.thedivergentseries.movie/#insurgent</td>\n",
       "      <td>Robert Schwentke</td>\n",
       "      <td>One Choice Can Destroy You</td>\n",
       "      <td>...</td>\n",
       "      <td>Beatrice Prior must confront her inner demons ...</td>\n",
       "      <td>119</td>\n",
       "      <td>Adventure|Science Fiction|Thriller</td>\n",
       "      <td>Summit Entertainment|Mandeville Films|Red Wago...</td>\n",
       "      <td>3/18/15</td>\n",
       "      <td>2480</td>\n",
       "      <td>6.3</td>\n",
       "      <td>2015</td>\n",
       "      <td>1.012000e+08</td>\n",
       "      <td>2.716190e+08</td>\n",
       "    </tr>\n",
       "  </tbody>\n",
       "</table>\n",
       "<p>3 rows × 21 columns</p>\n",
       "</div>"
      ],
      "text/plain": [
       "       id    imdb_id  popularity     budget     revenue      original_title  \\\n",
       "0  135397  tt0369610   32.985763  150000000  1513528810      Jurassic World   \n",
       "1   76341  tt1392190   28.419936  150000000   378436354  Mad Max: Fury Road   \n",
       "2  262500  tt2908446   13.112507  110000000   295238201           Insurgent   \n",
       "\n",
       "                                                cast  \\\n",
       "0  Chris Pratt|Bryce Dallas Howard|Irrfan Khan|Vi...   \n",
       "1  Tom Hardy|Charlize Theron|Hugh Keays-Byrne|Nic...   \n",
       "2  Shailene Woodley|Theo James|Kate Winslet|Ansel...   \n",
       "\n",
       "                                         homepage          director  \\\n",
       "0                   http://www.jurassicworld.com/   Colin Trevorrow   \n",
       "1                     http://www.madmaxmovie.com/     George Miller   \n",
       "2  http://www.thedivergentseries.movie/#insurgent  Robert Schwentke   \n",
       "\n",
       "                      tagline  ...  \\\n",
       "0           The park is open.  ...   \n",
       "1          What a Lovely Day.  ...   \n",
       "2  One Choice Can Destroy You  ...   \n",
       "\n",
       "                                            overview runtime  \\\n",
       "0  Twenty-two years after the events of Jurassic ...     124   \n",
       "1  An apocalyptic story set in the furthest reach...     120   \n",
       "2  Beatrice Prior must confront her inner demons ...     119   \n",
       "\n",
       "                                      genres  \\\n",
       "0  Action|Adventure|Science Fiction|Thriller   \n",
       "1  Action|Adventure|Science Fiction|Thriller   \n",
       "2         Adventure|Science Fiction|Thriller   \n",
       "\n",
       "                                production_companies release_date vote_count  \\\n",
       "0  Universal Studios|Amblin Entertainment|Legenda...       6/9/15       5562   \n",
       "1  Village Roadshow Pictures|Kennedy Miller Produ...      5/13/15       6185   \n",
       "2  Summit Entertainment|Mandeville Films|Red Wago...      3/18/15       2480   \n",
       "\n",
       "   vote_average  release_year    budget_adj   revenue_adj  \n",
       "0           6.5          2015  1.379999e+08  1.392446e+09  \n",
       "1           7.1          2015  1.379999e+08  3.481613e+08  \n",
       "2           6.3          2015  1.012000e+08  2.716190e+08  \n",
       "\n",
       "[3 rows x 21 columns]"
      ]
     },
     "execution_count": 2,
     "metadata": {},
     "output_type": "execute_result"
    }
   ],
   "source": [
    "df=pd.read_csv('tmdb-movies.csv')\n",
    "#I will leave this incase \n",
    "df1=pd.read_csv('tmdb-movies.csv')\n",
    "df.head(3)\n"
   ]
  },
  {
   "cell_type": "code",
   "execution_count": 3,
   "metadata": {},
   "outputs": [
    {
     "data": {
      "text/plain": [
       "(10866, 21)"
      ]
     },
     "execution_count": 3,
     "metadata": {},
     "output_type": "execute_result"
    }
   ],
   "source": [
    "df.shape"
   ]
  },
  {
   "cell_type": "markdown",
   "metadata": {},
   "source": [
    "<a id='shape'></a>\n",
    "\n",
    ">.Number of samples and columns in the dataset : 10866 samples and 21 columns"
   ]
  },
  {
   "cell_type": "code",
   "execution_count": 4,
   "metadata": {},
   "outputs": [
    {
     "name": "stdout",
     "output_type": "stream",
     "text": [
      "<class 'pandas.core.frame.DataFrame'>\n",
      "RangeIndex: 10866 entries, 0 to 10865\n",
      "Data columns (total 21 columns):\n",
      " #   Column                Non-Null Count  Dtype  \n",
      "---  ------                --------------  -----  \n",
      " 0   id                    10866 non-null  int64  \n",
      " 1   imdb_id               10856 non-null  object \n",
      " 2   popularity            10866 non-null  float64\n",
      " 3   budget                10866 non-null  int64  \n",
      " 4   revenue               10866 non-null  int64  \n",
      " 5   original_title        10866 non-null  object \n",
      " 6   cast                  10790 non-null  object \n",
      " 7   homepage              2936 non-null   object \n",
      " 8   director              10822 non-null  object \n",
      " 9   tagline               8042 non-null   object \n",
      " 10  keywords              9373 non-null   object \n",
      " 11  overview              10862 non-null  object \n",
      " 12  runtime               10866 non-null  int64  \n",
      " 13  genres                10843 non-null  object \n",
      " 14  production_companies  9836 non-null   object \n",
      " 15  release_date          10866 non-null  object \n",
      " 16  vote_count            10866 non-null  int64  \n",
      " 17  vote_average          10866 non-null  float64\n",
      " 18  release_year          10866 non-null  int64  \n",
      " 19  budget_adj            10866 non-null  float64\n",
      " 20  revenue_adj           10866 non-null  float64\n",
      "dtypes: float64(4), int64(6), object(11)\n",
      "memory usage: 1.7+ MB\n"
     ]
    }
   ],
   "source": [
    "df.info()"
   ]
  },
  {
   "cell_type": "markdown",
   "metadata": {
    "collapsed": true
   },
   "source": [
    "<a id='Datatypes'></a>\n",
    "\n",
    ">.Datatypes of columns  :  release_date is not datatype, budget_adj and revenue_adj are float datatype \n",
    " > | I will change datatypes in the data cleaning step"
   ]
  },
  {
   "cell_type": "code",
   "execution_count": 5,
   "metadata": {},
   "outputs": [
    {
     "data": {
      "text/html": [
       "<div>\n",
       "<style scoped>\n",
       "    .dataframe tbody tr th:only-of-type {\n",
       "        vertical-align: middle;\n",
       "    }\n",
       "\n",
       "    .dataframe tbody tr th {\n",
       "        vertical-align: top;\n",
       "    }\n",
       "\n",
       "    .dataframe thead th {\n",
       "        text-align: right;\n",
       "    }\n",
       "</style>\n",
       "<table border=\"1\" class=\"dataframe\">\n",
       "  <thead>\n",
       "    <tr style=\"text-align: right;\">\n",
       "      <th></th>\n",
       "      <th>id</th>\n",
       "      <th>popularity</th>\n",
       "      <th>budget</th>\n",
       "      <th>revenue</th>\n",
       "      <th>runtime</th>\n",
       "      <th>vote_count</th>\n",
       "      <th>vote_average</th>\n",
       "      <th>release_year</th>\n",
       "      <th>budget_adj</th>\n",
       "      <th>revenue_adj</th>\n",
       "    </tr>\n",
       "  </thead>\n",
       "  <tbody>\n",
       "    <tr>\n",
       "      <th>count</th>\n",
       "      <td>10866.000000</td>\n",
       "      <td>10866.000000</td>\n",
       "      <td>1.086600e+04</td>\n",
       "      <td>1.086600e+04</td>\n",
       "      <td>10866.000000</td>\n",
       "      <td>10866.000000</td>\n",
       "      <td>10866.000000</td>\n",
       "      <td>10866.000000</td>\n",
       "      <td>1.086600e+04</td>\n",
       "      <td>1.086600e+04</td>\n",
       "    </tr>\n",
       "    <tr>\n",
       "      <th>mean</th>\n",
       "      <td>66064.177434</td>\n",
       "      <td>0.646441</td>\n",
       "      <td>1.462570e+07</td>\n",
       "      <td>3.982332e+07</td>\n",
       "      <td>102.070863</td>\n",
       "      <td>217.389748</td>\n",
       "      <td>5.974922</td>\n",
       "      <td>2001.322658</td>\n",
       "      <td>1.755104e+07</td>\n",
       "      <td>5.136436e+07</td>\n",
       "    </tr>\n",
       "    <tr>\n",
       "      <th>std</th>\n",
       "      <td>92130.136561</td>\n",
       "      <td>1.000185</td>\n",
       "      <td>3.091321e+07</td>\n",
       "      <td>1.170035e+08</td>\n",
       "      <td>31.381405</td>\n",
       "      <td>575.619058</td>\n",
       "      <td>0.935142</td>\n",
       "      <td>12.812941</td>\n",
       "      <td>3.430616e+07</td>\n",
       "      <td>1.446325e+08</td>\n",
       "    </tr>\n",
       "    <tr>\n",
       "      <th>min</th>\n",
       "      <td>5.000000</td>\n",
       "      <td>0.000065</td>\n",
       "      <td>0.000000e+00</td>\n",
       "      <td>0.000000e+00</td>\n",
       "      <td>0.000000</td>\n",
       "      <td>10.000000</td>\n",
       "      <td>1.500000</td>\n",
       "      <td>1960.000000</td>\n",
       "      <td>0.000000e+00</td>\n",
       "      <td>0.000000e+00</td>\n",
       "    </tr>\n",
       "    <tr>\n",
       "      <th>25%</th>\n",
       "      <td>10596.250000</td>\n",
       "      <td>0.207583</td>\n",
       "      <td>0.000000e+00</td>\n",
       "      <td>0.000000e+00</td>\n",
       "      <td>90.000000</td>\n",
       "      <td>17.000000</td>\n",
       "      <td>5.400000</td>\n",
       "      <td>1995.000000</td>\n",
       "      <td>0.000000e+00</td>\n",
       "      <td>0.000000e+00</td>\n",
       "    </tr>\n",
       "    <tr>\n",
       "      <th>50%</th>\n",
       "      <td>20669.000000</td>\n",
       "      <td>0.383856</td>\n",
       "      <td>0.000000e+00</td>\n",
       "      <td>0.000000e+00</td>\n",
       "      <td>99.000000</td>\n",
       "      <td>38.000000</td>\n",
       "      <td>6.000000</td>\n",
       "      <td>2006.000000</td>\n",
       "      <td>0.000000e+00</td>\n",
       "      <td>0.000000e+00</td>\n",
       "    </tr>\n",
       "    <tr>\n",
       "      <th>75%</th>\n",
       "      <td>75610.000000</td>\n",
       "      <td>0.713817</td>\n",
       "      <td>1.500000e+07</td>\n",
       "      <td>2.400000e+07</td>\n",
       "      <td>111.000000</td>\n",
       "      <td>145.750000</td>\n",
       "      <td>6.600000</td>\n",
       "      <td>2011.000000</td>\n",
       "      <td>2.085325e+07</td>\n",
       "      <td>3.369710e+07</td>\n",
       "    </tr>\n",
       "    <tr>\n",
       "      <th>max</th>\n",
       "      <td>417859.000000</td>\n",
       "      <td>32.985763</td>\n",
       "      <td>4.250000e+08</td>\n",
       "      <td>2.781506e+09</td>\n",
       "      <td>900.000000</td>\n",
       "      <td>9767.000000</td>\n",
       "      <td>9.200000</td>\n",
       "      <td>2015.000000</td>\n",
       "      <td>4.250000e+08</td>\n",
       "      <td>2.827124e+09</td>\n",
       "    </tr>\n",
       "  </tbody>\n",
       "</table>\n",
       "</div>"
      ],
      "text/plain": [
       "                  id    popularity        budget       revenue       runtime  \\\n",
       "count   10866.000000  10866.000000  1.086600e+04  1.086600e+04  10866.000000   \n",
       "mean    66064.177434      0.646441  1.462570e+07  3.982332e+07    102.070863   \n",
       "std     92130.136561      1.000185  3.091321e+07  1.170035e+08     31.381405   \n",
       "min         5.000000      0.000065  0.000000e+00  0.000000e+00      0.000000   \n",
       "25%     10596.250000      0.207583  0.000000e+00  0.000000e+00     90.000000   \n",
       "50%     20669.000000      0.383856  0.000000e+00  0.000000e+00     99.000000   \n",
       "75%     75610.000000      0.713817  1.500000e+07  2.400000e+07    111.000000   \n",
       "max    417859.000000     32.985763  4.250000e+08  2.781506e+09    900.000000   \n",
       "\n",
       "         vote_count  vote_average  release_year    budget_adj   revenue_adj  \n",
       "count  10866.000000  10866.000000  10866.000000  1.086600e+04  1.086600e+04  \n",
       "mean     217.389748      5.974922   2001.322658  1.755104e+07  5.136436e+07  \n",
       "std      575.619058      0.935142     12.812941  3.430616e+07  1.446325e+08  \n",
       "min       10.000000      1.500000   1960.000000  0.000000e+00  0.000000e+00  \n",
       "25%       17.000000      5.400000   1995.000000  0.000000e+00  0.000000e+00  \n",
       "50%       38.000000      6.000000   2006.000000  0.000000e+00  0.000000e+00  \n",
       "75%      145.750000      6.600000   2011.000000  2.085325e+07  3.369710e+07  \n",
       "max     9767.000000      9.200000   2015.000000  4.250000e+08  2.827124e+09  "
      ]
     },
     "execution_count": 5,
     "metadata": {},
     "output_type": "execute_result"
    }
   ],
   "source": [
    "#Descriptive statistics for the dataset\n",
    "\n",
    "df.describe()"
   ]
  },
  {
   "cell_type": "markdown",
   "metadata": {},
   "source": [
    "<a id='Descriptive'></a>\n",
    "Observation |\n",
    ". the data from 1960 until 2015\n",
    "\n",
    ". the maximun budget 425 hundred million$ \\ maximun revenue over $2 billion. \n",
    "\n",
    ". Maximun voting Score (9.2)\n",
    "\n",
    ". Zero values in the budget,revenue,runtime,budget_adj,revenue_ad\n",
    " \n",
    " >Action |  I will replace the zero values with the column mean-value to keep the analysis without noise "
   ]
  },
  {
   "cell_type": "code",
   "execution_count": 6,
   "metadata": {},
   "outputs": [
    {
     "data": {
      "text/plain": [
       "id                         0\n",
       "imdb_id                   10\n",
       "popularity                 0\n",
       "budget                     0\n",
       "revenue                    0\n",
       "original_title             0\n",
       "cast                      76\n",
       "homepage                7930\n",
       "director                  44\n",
       "tagline                 2824\n",
       "keywords                1493\n",
       "overview                   4\n",
       "runtime                    0\n",
       "genres                    23\n",
       "production_companies    1030\n",
       "release_date               0\n",
       "vote_count                 0\n",
       "vote_average               0\n",
       "release_year               0\n",
       "budget_adj                 0\n",
       "revenue_adj                0\n",
       "dtype: int64"
      ]
     },
     "execution_count": 6,
     "metadata": {},
     "output_type": "execute_result"
    }
   ],
   "source": [
    "#Features with missing values\n",
    "df.isnull().sum()"
   ]
  },
  {
   "cell_type": "markdown",
   "metadata": {},
   "source": [
    "<a id='missing'></a>\n",
    ">alot of missing values in this Features:\n",
    ">imdb_id|cast|homepage|director|tagline|keywords|overview genres|production_companies|director  \n",
    ">*I wil treat values of zero in the numeric reatures as missing also ."
   ]
  },
  {
   "cell_type": "code",
   "execution_count": 7,
   "metadata": {},
   "outputs": [
    {
     "name": "stdout",
     "output_type": "stream",
     "text": [
      "`budget` have 5696 zero values\n",
      "`revenue` have 6016 zero values\n",
      "`runtime` have 31 zero values\n",
      "`budget_adj` have 5696 zero values\n",
      "`revenue_adj` have 6016 zero values\n"
     ]
    }
   ],
   "source": [
    "#Features with zero values\n",
    "zero_values=df.loc[:, (df == 0).any()]\n",
    "for i in zero_values.columns:\n",
    "    zero_count = (zero_values[i] == 0).sum()\n",
    "    print('`{}` have {} zero values'.format(i,zero_count))"
   ]
  },
  {
   "cell_type": "markdown",
   "metadata": {},
   "source": [
    "<a id='zero'></a>\n",
    ">It is a huge amount of missing data for these columnes ,\n",
    ">in order not to drop more than 50% of the data that will affect my statistics and visualization result, I decided to retain these rows and replace them with mean values."
   ]
  },
  {
   "cell_type": "code",
   "execution_count": 8,
   "metadata": {},
   "outputs": [
    {
     "data": {
      "text/plain": [
       "id                      10865\n",
       "imdb_id                 10855\n",
       "popularity              10814\n",
       "budget                    557\n",
       "revenue                  4702\n",
       "original_title          10571\n",
       "cast                    10719\n",
       "homepage                 2896\n",
       "director                 5067\n",
       "tagline                  7997\n",
       "keywords                 8804\n",
       "overview                10847\n",
       "runtime                   247\n",
       "genres                   2039\n",
       "production_companies     7445\n",
       "release_date             5909\n",
       "vote_count               1289\n",
       "vote_average               72\n",
       "release_year               56\n",
       "budget_adj               2614\n",
       "revenue_adj              4840\n",
       "dtype: int64"
      ]
     },
     "execution_count": 8,
     "metadata": {},
     "output_type": "execute_result"
    }
   ],
   "source": [
    "#Number of unique values for the dataset\n",
    "df.nunique()"
   ]
  },
  {
   "cell_type": "markdown",
   "metadata": {},
   "source": [
    "<a id='unique'></a>\n",
    ">To see the total number of unique values for each column:\n",
    "> the id column have 1865 then its the dataset Key value .\n"
   ]
  },
  {
   "cell_type": "code",
   "execution_count": 9,
   "metadata": {},
   "outputs": [
    {
     "data": {
      "text/plain": [
       "1"
      ]
     },
     "execution_count": 9,
     "metadata": {},
     "output_type": "execute_result"
    }
   ],
   "source": [
    "#Duplicate rows in the dataset\n",
    "df.duplicated().sum()"
   ]
  },
  {
   "cell_type": "markdown",
   "metadata": {},
   "source": [
    "<a id='Duplicate'></a>\n",
    " >Only 1 duplicate row which i will drop next"
   ]
  },
  {
   "cell_type": "code",
   "execution_count": 10,
   "metadata": {},
   "outputs": [
    {
     "data": {
      "text/plain": [
       "8874"
      ]
     },
     "execution_count": 10,
     "metadata": {},
     "output_type": "execute_result"
    }
   ],
   "source": [
    "#Number of rows with missing values in the dataset\n",
    "df.isnull().any(axis=1).sum()"
   ]
  },
  {
   "cell_type": "markdown",
   "metadata": {},
   "source": [
    "<a id='rowsM'></a>\n",
    ">8874 rows with missing value ."
   ]
  },
  {
   "cell_type": "markdown",
   "metadata": {},
   "source": [
    "<a id='Observations'></a>\n",
    ">Observations |\\\n",
    "> . the release_date type need to change. \\\n",
    "> . Some of the Features unimportant and need to drop.\\\n",
    "> . There are 5696 zero values rows in budget_adj, 6016 zero values row in revenue_adj It is a huge amount of missing data for these two columnes. In order not to drop more than 50% of the data that will affect my statistics and visualization result, I decided to retain these rows and replace them with mean values."
   ]
  },
  {
   "cell_type": "markdown",
   "metadata": {},
   "source": [
    "<a id='Cleaning'></a>\n",
    "## Data Cleaning :"
   ]
  },
  {
   "cell_type": "markdown",
   "metadata": {},
   "source": [
    " <li><a href=\"#ColumnLabels\">1-Cleaning Column Labels</a></li> \n",
    "  <li><a href=\"#drop\">2- Drop Nulls, Dedupe</a></li> \n",
    " <li><a href=\"#Inspecting\"> 3-Inspecting Data Types</a></li> \n",
    "\n",
    "  <li><a href=\"#clean_new\">  **Add any new features and check the Cleaned Data frame** </a></li> \n",
    "\n"
   ]
  },
  {
   "cell_type": "markdown",
   "metadata": {},
   "source": [
    "<a id='ColumnLabels'></a>\n",
    "### 1-Cleaning Column Labels\n",
    " - Drop Extraneous Columns\n",
    " \n"
   ]
  },
  {
   "cell_type": "code",
   "execution_count": 11,
   "metadata": {},
   "outputs": [
    {
     "data": {
      "text/html": [
       "<div>\n",
       "<style scoped>\n",
       "    .dataframe tbody tr th:only-of-type {\n",
       "        vertical-align: middle;\n",
       "    }\n",
       "\n",
       "    .dataframe tbody tr th {\n",
       "        vertical-align: top;\n",
       "    }\n",
       "\n",
       "    .dataframe thead th {\n",
       "        text-align: right;\n",
       "    }\n",
       "</style>\n",
       "<table border=\"1\" class=\"dataframe\">\n",
       "  <thead>\n",
       "    <tr style=\"text-align: right;\">\n",
       "      <th></th>\n",
       "      <th>popularity</th>\n",
       "      <th>original_title</th>\n",
       "      <th>cast</th>\n",
       "      <th>director</th>\n",
       "      <th>runtime</th>\n",
       "      <th>genres</th>\n",
       "      <th>production_companies</th>\n",
       "      <th>release_date</th>\n",
       "      <th>vote_count</th>\n",
       "      <th>vote_average</th>\n",
       "      <th>release_year</th>\n",
       "      <th>budget_adj</th>\n",
       "      <th>revenue_adj</th>\n",
       "    </tr>\n",
       "  </thead>\n",
       "  <tbody>\n",
       "    <tr>\n",
       "      <th>0</th>\n",
       "      <td>32.985763</td>\n",
       "      <td>Jurassic World</td>\n",
       "      <td>Chris Pratt|Bryce Dallas Howard|Irrfan Khan|Vi...</td>\n",
       "      <td>Colin Trevorrow</td>\n",
       "      <td>124</td>\n",
       "      <td>Action|Adventure|Science Fiction|Thriller</td>\n",
       "      <td>Universal Studios|Amblin Entertainment|Legenda...</td>\n",
       "      <td>6/9/15</td>\n",
       "      <td>5562</td>\n",
       "      <td>6.5</td>\n",
       "      <td>2015</td>\n",
       "      <td>1.379999e+08</td>\n",
       "      <td>1.392446e+09</td>\n",
       "    </tr>\n",
       "    <tr>\n",
       "      <th>1</th>\n",
       "      <td>28.419936</td>\n",
       "      <td>Mad Max: Fury Road</td>\n",
       "      <td>Tom Hardy|Charlize Theron|Hugh Keays-Byrne|Nic...</td>\n",
       "      <td>George Miller</td>\n",
       "      <td>120</td>\n",
       "      <td>Action|Adventure|Science Fiction|Thriller</td>\n",
       "      <td>Village Roadshow Pictures|Kennedy Miller Produ...</td>\n",
       "      <td>5/13/15</td>\n",
       "      <td>6185</td>\n",
       "      <td>7.1</td>\n",
       "      <td>2015</td>\n",
       "      <td>1.379999e+08</td>\n",
       "      <td>3.481613e+08</td>\n",
       "    </tr>\n",
       "    <tr>\n",
       "      <th>2</th>\n",
       "      <td>13.112507</td>\n",
       "      <td>Insurgent</td>\n",
       "      <td>Shailene Woodley|Theo James|Kate Winslet|Ansel...</td>\n",
       "      <td>Robert Schwentke</td>\n",
       "      <td>119</td>\n",
       "      <td>Adventure|Science Fiction|Thriller</td>\n",
       "      <td>Summit Entertainment|Mandeville Films|Red Wago...</td>\n",
       "      <td>3/18/15</td>\n",
       "      <td>2480</td>\n",
       "      <td>6.3</td>\n",
       "      <td>2015</td>\n",
       "      <td>1.012000e+08</td>\n",
       "      <td>2.716190e+08</td>\n",
       "    </tr>\n",
       "  </tbody>\n",
       "</table>\n",
       "</div>"
      ],
      "text/plain": [
       "   popularity      original_title  \\\n",
       "0   32.985763      Jurassic World   \n",
       "1   28.419936  Mad Max: Fury Road   \n",
       "2   13.112507           Insurgent   \n",
       "\n",
       "                                                cast          director  \\\n",
       "0  Chris Pratt|Bryce Dallas Howard|Irrfan Khan|Vi...   Colin Trevorrow   \n",
       "1  Tom Hardy|Charlize Theron|Hugh Keays-Byrne|Nic...     George Miller   \n",
       "2  Shailene Woodley|Theo James|Kate Winslet|Ansel...  Robert Schwentke   \n",
       "\n",
       "   runtime                                     genres  \\\n",
       "0      124  Action|Adventure|Science Fiction|Thriller   \n",
       "1      120  Action|Adventure|Science Fiction|Thriller   \n",
       "2      119         Adventure|Science Fiction|Thriller   \n",
       "\n",
       "                                production_companies release_date  vote_count  \\\n",
       "0  Universal Studios|Amblin Entertainment|Legenda...       6/9/15        5562   \n",
       "1  Village Roadshow Pictures|Kennedy Miller Produ...      5/13/15        6185   \n",
       "2  Summit Entertainment|Mandeville Films|Red Wago...      3/18/15        2480   \n",
       "\n",
       "   vote_average  release_year    budget_adj   revenue_adj  \n",
       "0           6.5          2015  1.379999e+08  1.392446e+09  \n",
       "1           7.1          2015  1.379999e+08  3.481613e+08  \n",
       "2           6.3          2015  1.012000e+08  2.716190e+08  "
      ]
     },
     "execution_count": 11,
     "metadata": {},
     "output_type": "execute_result"
    }
   ],
   "source": [
    "# Drop Extraneous Columns\n",
    "#Drop features that aren't relevant to our questions\n",
    "df.drop(['id','imdb_id','homepage','tagline','keywords','overview'\n",
    "       ,'budget','revenue'], axis=1, inplace=True )\n",
    "# confirm changes\n",
    "df.head(3)"
   ]
  },
  {
   "cell_type": "markdown",
   "metadata": {},
   "source": [
    ">**Drop Uniportant Columns**\\\n",
    ">Drop columns that aren't related to our questions. Coulmns i  droped :\\\n",
    ">id, imdb_id, homepage, tagline, keywords,overview.\\\n",
    ">budget and revenue will also be drop as I will be using the final two columns ending with “_adj” which show the budget and revenue of the associated movie in terms of 2010 dollars, accounting for inflation over time."
   ]
  },
  {
   "cell_type": "markdown",
   "metadata": {},
   "source": [
    "<a id='drop'></a>\n",
    "### 2- Drop Nulls, Dedupe\n",
    " - Drop Duplicates Rows\n",
    " - Replce zero values with NaN then with mean"
   ]
  },
  {
   "cell_type": "markdown",
   "metadata": {},
   "source": [
    "#### Drop Duplicates Rows"
   ]
  },
  {
   "cell_type": "code",
   "execution_count": 12,
   "metadata": {},
   "outputs": [
    {
     "data": {
      "text/plain": [
       "0"
      ]
     },
     "execution_count": 12,
     "metadata": {},
     "output_type": "execute_result"
    }
   ],
   "source": [
    "dupe=df.duplicated()\n",
    "# drop duplicate rows\n",
    "df.drop_duplicates(inplace=True)\n",
    "# check number of duplicates -it should be 0\n",
    "df.duplicated().sum()"
   ]
  },
  {
   "cell_type": "markdown",
   "metadata": {},
   "source": [
    "> Now no  duplicate rows\n"
   ]
  },
  {
   "cell_type": "markdown",
   "metadata": {},
   "source": [
    "#### Replce zero values with NaN then with mean"
   ]
  },
  {
   "cell_type": "code",
   "execution_count": 13,
   "metadata": {},
   "outputs": [
    {
     "data": {
      "text/html": [
       "<div>\n",
       "<style scoped>\n",
       "    .dataframe tbody tr th:only-of-type {\n",
       "        vertical-align: middle;\n",
       "    }\n",
       "\n",
       "    .dataframe tbody tr th {\n",
       "        vertical-align: top;\n",
       "    }\n",
       "\n",
       "    .dataframe thead th {\n",
       "        text-align: right;\n",
       "    }\n",
       "</style>\n",
       "<table border=\"1\" class=\"dataframe\">\n",
       "  <thead>\n",
       "    <tr style=\"text-align: right;\">\n",
       "      <th></th>\n",
       "      <th>popularity</th>\n",
       "      <th>runtime</th>\n",
       "      <th>vote_count</th>\n",
       "      <th>vote_average</th>\n",
       "      <th>release_year</th>\n",
       "      <th>budget_adj</th>\n",
       "      <th>revenue_adj</th>\n",
       "    </tr>\n",
       "  </thead>\n",
       "  <tbody>\n",
       "    <tr>\n",
       "      <th>count</th>\n",
       "      <td>10865.000000</td>\n",
       "      <td>10834.000000</td>\n",
       "      <td>10865.000000</td>\n",
       "      <td>10865.000000</td>\n",
       "      <td>10865.000000</td>\n",
       "      <td>5.169000e+03</td>\n",
       "      <td>4.849000e+03</td>\n",
       "    </tr>\n",
       "    <tr>\n",
       "      <th>mean</th>\n",
       "      <td>0.646446</td>\n",
       "      <td>102.363855</td>\n",
       "      <td>217.399632</td>\n",
       "      <td>5.975012</td>\n",
       "      <td>2001.321859</td>\n",
       "      <td>3.688907e+07</td>\n",
       "      <td>1.151009e+08</td>\n",
       "    </tr>\n",
       "    <tr>\n",
       "      <th>std</th>\n",
       "      <td>1.000231</td>\n",
       "      <td>30.948225</td>\n",
       "      <td>575.644627</td>\n",
       "      <td>0.935138</td>\n",
       "      <td>12.813260</td>\n",
       "      <td>4.196096e+07</td>\n",
       "      <td>1.988557e+08</td>\n",
       "    </tr>\n",
       "    <tr>\n",
       "      <th>min</th>\n",
       "      <td>0.000065</td>\n",
       "      <td>2.000000</td>\n",
       "      <td>10.000000</td>\n",
       "      <td>1.500000</td>\n",
       "      <td>1960.000000</td>\n",
       "      <td>9.210911e-01</td>\n",
       "      <td>2.370705e+00</td>\n",
       "    </tr>\n",
       "    <tr>\n",
       "      <th>25%</th>\n",
       "      <td>0.207575</td>\n",
       "      <td>90.000000</td>\n",
       "      <td>17.000000</td>\n",
       "      <td>5.400000</td>\n",
       "      <td>1995.000000</td>\n",
       "      <td>8.102293e+06</td>\n",
       "      <td>1.046585e+07</td>\n",
       "    </tr>\n",
       "    <tr>\n",
       "      <th>50%</th>\n",
       "      <td>0.383831</td>\n",
       "      <td>99.000000</td>\n",
       "      <td>38.000000</td>\n",
       "      <td>6.000000</td>\n",
       "      <td>2006.000000</td>\n",
       "      <td>2.271505e+07</td>\n",
       "      <td>4.395666e+07</td>\n",
       "    </tr>\n",
       "    <tr>\n",
       "      <th>75%</th>\n",
       "      <td>0.713857</td>\n",
       "      <td>112.000000</td>\n",
       "      <td>146.000000</td>\n",
       "      <td>6.600000</td>\n",
       "      <td>2011.000000</td>\n",
       "      <td>5.008384e+07</td>\n",
       "      <td>1.316482e+08</td>\n",
       "    </tr>\n",
       "    <tr>\n",
       "      <th>max</th>\n",
       "      <td>32.985763</td>\n",
       "      <td>900.000000</td>\n",
       "      <td>9767.000000</td>\n",
       "      <td>9.200000</td>\n",
       "      <td>2015.000000</td>\n",
       "      <td>4.250000e+08</td>\n",
       "      <td>2.827124e+09</td>\n",
       "    </tr>\n",
       "  </tbody>\n",
       "</table>\n",
       "</div>"
      ],
      "text/plain": [
       "         popularity       runtime    vote_count  vote_average  release_year  \\\n",
       "count  10865.000000  10834.000000  10865.000000  10865.000000  10865.000000   \n",
       "mean       0.646446    102.363855    217.399632      5.975012   2001.321859   \n",
       "std        1.000231     30.948225    575.644627      0.935138     12.813260   \n",
       "min        0.000065      2.000000     10.000000      1.500000   1960.000000   \n",
       "25%        0.207575     90.000000     17.000000      5.400000   1995.000000   \n",
       "50%        0.383831     99.000000     38.000000      6.000000   2006.000000   \n",
       "75%        0.713857    112.000000    146.000000      6.600000   2011.000000   \n",
       "max       32.985763    900.000000   9767.000000      9.200000   2015.000000   \n",
       "\n",
       "         budget_adj   revenue_adj  \n",
       "count  5.169000e+03  4.849000e+03  \n",
       "mean   3.688907e+07  1.151009e+08  \n",
       "std    4.196096e+07  1.988557e+08  \n",
       "min    9.210911e-01  2.370705e+00  \n",
       "25%    8.102293e+06  1.046585e+07  \n",
       "50%    2.271505e+07  4.395666e+07  \n",
       "75%    5.008384e+07  1.316482e+08  \n",
       "max    4.250000e+08  2.827124e+09  "
      ]
     },
     "execution_count": 13,
     "metadata": {},
     "output_type": "execute_result"
    }
   ],
   "source": [
    "# creeate a list columns with zero values.\n",
    "col_with_zero = ['runtime','budget_adj','revenue_adj']\n",
    "\n",
    "# replace zero values with NaN for columns in the list.\n",
    "df[col_with_zero] = df[col_with_zero].replace(0,np.NAN)\n",
    "\n",
    "# confirme the changes\n",
    "df.describe()"
   ]
  },
  {
   "cell_type": "markdown",
   "metadata": {},
   "source": [
    "> Now I can replace them with mean values in the next section."
   ]
  },
  {
   "cell_type": "code",
   "execution_count": 14,
   "metadata": {},
   "outputs": [],
   "source": [
    "# fill NaN values with mean\n",
    "df['runtime'].fillna(df['runtime'].mean(),inplace = True)\n",
    "df['budget_adj'].fillna(df['budget_adj'].mean(),inplace = True)\n",
    "df['revenue_adj'].fillna(df['revenue_adj'].mean(),inplace = True)"
   ]
  },
  {
   "cell_type": "markdown",
   "metadata": {},
   "source": [
    "> Now no zero values in the budget_adj and revenue_adj and runtime"
   ]
  },
  {
   "cell_type": "markdown",
   "metadata": {},
   "source": [
    "<a id='Inspecting'></a>\n",
    "### 3-Inspecting Data Types\n",
    " -Convert release_date column to Date datatype.\\\n",
    " -Convert budget and revenue  column to int datatype.\n",
    "\n"
   ]
  },
  {
   "cell_type": "code",
   "execution_count": 15,
   "metadata": {},
   "outputs": [
    {
     "data": {
      "text/plain": [
       "popularity              float64\n",
       "original_title           object\n",
       "cast                     object\n",
       "director                 object\n",
       "runtime                 float64\n",
       "genres                   object\n",
       "production_companies     object\n",
       "release_date             object\n",
       "vote_count                int64\n",
       "vote_average            float64\n",
       "release_year              int64\n",
       "budget_adj                int64\n",
       "revenue_adj               int64\n",
       "dtype: object"
      ]
     },
     "execution_count": 15,
     "metadata": {},
     "output_type": "execute_result"
    }
   ],
   "source": [
    "#Converte'release_date' to date format \n",
    "df['release_date'] = pd.to_datetime(df['release_date']).apply(lambda x: x.date())\n",
    "# Columns to convert datatype of\n",
    "columns = ['budget_adj', 'revenue_adj']\n",
    "# Convert budget and revenue column to int datatype\n",
    "df[columns] = df[columns].applymap(np.int64)\n",
    "# Lets look at the new datatype\n",
    "df.dtypes\n"
   ]
  },
  {
   "cell_type": "markdown",
   "metadata": {},
   "source": [
    "> The release_date column have the right data type"
   ]
  },
  {
   "cell_type": "code",
   "execution_count": 16,
   "metadata": {},
   "outputs": [
    {
     "data": {
      "text/html": [
       "<div>\n",
       "<style scoped>\n",
       "    .dataframe tbody tr th:only-of-type {\n",
       "        vertical-align: middle;\n",
       "    }\n",
       "\n",
       "    .dataframe tbody tr th {\n",
       "        vertical-align: top;\n",
       "    }\n",
       "\n",
       "    .dataframe thead th {\n",
       "        text-align: right;\n",
       "    }\n",
       "</style>\n",
       "<table border=\"1\" class=\"dataframe\">\n",
       "  <thead>\n",
       "    <tr style=\"text-align: right;\">\n",
       "      <th></th>\n",
       "      <th>popularity</th>\n",
       "      <th>original_title</th>\n",
       "      <th>cast</th>\n",
       "      <th>director</th>\n",
       "      <th>runtime</th>\n",
       "      <th>genres</th>\n",
       "      <th>production_companies</th>\n",
       "      <th>release_date</th>\n",
       "      <th>vote_count</th>\n",
       "      <th>vote_average</th>\n",
       "      <th>release_year</th>\n",
       "      <th>budget_adj</th>\n",
       "      <th>revenue_adj</th>\n",
       "      <th>profit</th>\n",
       "    </tr>\n",
       "  </thead>\n",
       "  <tbody>\n",
       "    <tr>\n",
       "      <th>0</th>\n",
       "      <td>32.985763</td>\n",
       "      <td>Jurassic World</td>\n",
       "      <td>Chris Pratt|Bryce Dallas Howard|Irrfan Khan|Vi...</td>\n",
       "      <td>Colin Trevorrow</td>\n",
       "      <td>124.0</td>\n",
       "      <td>Action|Adventure|Science Fiction|Thriller</td>\n",
       "      <td>Universal Studios|Amblin Entertainment|Legenda...</td>\n",
       "      <td>2015-06-09</td>\n",
       "      <td>5562</td>\n",
       "      <td>6.5</td>\n",
       "      <td>2015</td>\n",
       "      <td>137999939</td>\n",
       "      <td>1392445892</td>\n",
       "      <td>1254445953</td>\n",
       "    </tr>\n",
       "    <tr>\n",
       "      <th>1</th>\n",
       "      <td>28.419936</td>\n",
       "      <td>Mad Max: Fury Road</td>\n",
       "      <td>Tom Hardy|Charlize Theron|Hugh Keays-Byrne|Nic...</td>\n",
       "      <td>George Miller</td>\n",
       "      <td>120.0</td>\n",
       "      <td>Action|Adventure|Science Fiction|Thriller</td>\n",
       "      <td>Village Roadshow Pictures|Kennedy Miller Produ...</td>\n",
       "      <td>2015-05-13</td>\n",
       "      <td>6185</td>\n",
       "      <td>7.1</td>\n",
       "      <td>2015</td>\n",
       "      <td>137999939</td>\n",
       "      <td>348161292</td>\n",
       "      <td>210161353</td>\n",
       "    </tr>\n",
       "    <tr>\n",
       "      <th>2</th>\n",
       "      <td>13.112507</td>\n",
       "      <td>Insurgent</td>\n",
       "      <td>Shailene Woodley|Theo James|Kate Winslet|Ansel...</td>\n",
       "      <td>Robert Schwentke</td>\n",
       "      <td>119.0</td>\n",
       "      <td>Adventure|Science Fiction|Thriller</td>\n",
       "      <td>Summit Entertainment|Mandeville Films|Red Wago...</td>\n",
       "      <td>2015-03-18</td>\n",
       "      <td>2480</td>\n",
       "      <td>6.3</td>\n",
       "      <td>2015</td>\n",
       "      <td>101199955</td>\n",
       "      <td>271619025</td>\n",
       "      <td>170419070</td>\n",
       "    </tr>\n",
       "    <tr>\n",
       "      <th>3</th>\n",
       "      <td>11.173104</td>\n",
       "      <td>Star Wars: The Force Awakens</td>\n",
       "      <td>Harrison Ford|Mark Hamill|Carrie Fisher|Adam D...</td>\n",
       "      <td>J.J. Abrams</td>\n",
       "      <td>136.0</td>\n",
       "      <td>Action|Adventure|Science Fiction|Fantasy</td>\n",
       "      <td>Lucasfilm|Truenorth Productions|Bad Robot</td>\n",
       "      <td>2015-12-15</td>\n",
       "      <td>5292</td>\n",
       "      <td>7.5</td>\n",
       "      <td>2015</td>\n",
       "      <td>183999919</td>\n",
       "      <td>1902723129</td>\n",
       "      <td>1718723210</td>\n",
       "    </tr>\n",
       "    <tr>\n",
       "      <th>4</th>\n",
       "      <td>9.335014</td>\n",
       "      <td>Furious 7</td>\n",
       "      <td>Vin Diesel|Paul Walker|Jason Statham|Michelle ...</td>\n",
       "      <td>James Wan</td>\n",
       "      <td>137.0</td>\n",
       "      <td>Action|Crime|Thriller</td>\n",
       "      <td>Universal Pictures|Original Film|Media Rights ...</td>\n",
       "      <td>2015-04-01</td>\n",
       "      <td>2947</td>\n",
       "      <td>7.3</td>\n",
       "      <td>2015</td>\n",
       "      <td>174799923</td>\n",
       "      <td>1385748801</td>\n",
       "      <td>1210948878</td>\n",
       "    </tr>\n",
       "  </tbody>\n",
       "</table>\n",
       "</div>"
      ],
      "text/plain": [
       "   popularity                original_title  \\\n",
       "0   32.985763                Jurassic World   \n",
       "1   28.419936            Mad Max: Fury Road   \n",
       "2   13.112507                     Insurgent   \n",
       "3   11.173104  Star Wars: The Force Awakens   \n",
       "4    9.335014                     Furious 7   \n",
       "\n",
       "                                                cast          director  \\\n",
       "0  Chris Pratt|Bryce Dallas Howard|Irrfan Khan|Vi...   Colin Trevorrow   \n",
       "1  Tom Hardy|Charlize Theron|Hugh Keays-Byrne|Nic...     George Miller   \n",
       "2  Shailene Woodley|Theo James|Kate Winslet|Ansel...  Robert Schwentke   \n",
       "3  Harrison Ford|Mark Hamill|Carrie Fisher|Adam D...       J.J. Abrams   \n",
       "4  Vin Diesel|Paul Walker|Jason Statham|Michelle ...         James Wan   \n",
       "\n",
       "   runtime                                     genres  \\\n",
       "0    124.0  Action|Adventure|Science Fiction|Thriller   \n",
       "1    120.0  Action|Adventure|Science Fiction|Thriller   \n",
       "2    119.0         Adventure|Science Fiction|Thriller   \n",
       "3    136.0   Action|Adventure|Science Fiction|Fantasy   \n",
       "4    137.0                      Action|Crime|Thriller   \n",
       "\n",
       "                                production_companies release_date  vote_count  \\\n",
       "0  Universal Studios|Amblin Entertainment|Legenda...   2015-06-09        5562   \n",
       "1  Village Roadshow Pictures|Kennedy Miller Produ...   2015-05-13        6185   \n",
       "2  Summit Entertainment|Mandeville Films|Red Wago...   2015-03-18        2480   \n",
       "3          Lucasfilm|Truenorth Productions|Bad Robot   2015-12-15        5292   \n",
       "4  Universal Pictures|Original Film|Media Rights ...   2015-04-01        2947   \n",
       "\n",
       "   vote_average  release_year  budget_adj  revenue_adj      profit  \n",
       "0           6.5          2015   137999939   1392445892  1254445953  \n",
       "1           7.1          2015   137999939    348161292   210161353  \n",
       "2           6.3          2015   101199955    271619025   170419070  \n",
       "3           7.5          2015   183999919   1902723129  1718723210  \n",
       "4           7.3          2015   174799923   1385748801  1210948878  "
      ]
     },
     "execution_count": 16,
     "metadata": {},
     "output_type": "execute_result"
    }
   ],
   "source": [
    "# Add new feature the profit each movie \n",
    "\n",
    "df['profit']=df['revenue_adj']-df['budget_adj']\n",
    "\n",
    "df.head()"
   ]
  },
  {
   "cell_type": "markdown",
   "metadata": {},
   "source": [
    "<a id='clean_new'></a>"
   ]
  },
  {
   "cell_type": "code",
   "execution_count": 17,
   "metadata": {},
   "outputs": [
    {
     "name": "stdout",
     "output_type": "stream",
     "text": [
      "We have 10864 total rows and 14 columns.\n"
     ]
    }
   ],
   "source": [
    "# Store rows and columns using shape function.\n",
    "rows, col = df.shape\n",
    "#since rows includes count of a header, we need to remove its count.\n",
    "print('We have {} total rows and {} columns.'.format(rows-1, col))"
   ]
  },
  {
   "cell_type": "markdown",
   "metadata": {},
   "source": [
    "<a id='clean_new'></a> \n",
    ">The profit column added its valuabale featrue to our analysis"
   ]
  },
  {
   "cell_type": "code",
   "execution_count": 18,
   "metadata": {},
   "outputs": [],
   "source": [
    "df.to_csv('cleaned_tmdb.csv', index = False)"
   ]
  },
  {
   "cell_type": "markdown",
   "metadata": {},
   "source": [
    "<a id='eda'></a>\n",
    "## Exploratory Data Analysis\n",
    "\n",
    "> Now that after trimmed and cleaned the data, you're ready to move on to exploration:\\\n",
    "-Compute statistics  \n",
    "-Create visualizations  \n",
    "**With the goal of addressing the research questions that I posed in the Introduction section**\n",
    "> <li><a href=\"#q1\">Question 1 ( What kinds of properties are associated with movies that have high profits?!)</a></li> \n",
    ">  <li><a href=\"#q2\">Question 2  (What kinds of properties are associated with movies that have high Score?!)</a></li> \n",
    ">\n",
    "\n"
   ]
  },
  {
   "cell_type": "code",
   "execution_count": 19,
   "metadata": {},
   "outputs": [
    {
     "name": "stdout",
     "output_type": "stream",
     "text": [
      "<class 'pandas.core.frame.DataFrame'>\n",
      "RangeIndex: 10865 entries, 0 to 10864\n",
      "Data columns (total 14 columns):\n",
      " #   Column                Non-Null Count  Dtype  \n",
      "---  ------                --------------  -----  \n",
      " 0   popularity            10865 non-null  float64\n",
      " 1   original_title        10865 non-null  object \n",
      " 2   cast                  10789 non-null  object \n",
      " 3   director              10821 non-null  object \n",
      " 4   runtime               10865 non-null  float64\n",
      " 5   genres                10842 non-null  object \n",
      " 6   production_companies  9835 non-null   object \n",
      " 7   release_date          10865 non-null  object \n",
      " 8   vote_count            10865 non-null  int64  \n",
      " 9   vote_average          10865 non-null  float64\n",
      " 10  release_year          10865 non-null  int64  \n",
      " 11  budget_adj            10865 non-null  int64  \n",
      " 12  revenue_adj           10865 non-null  int64  \n",
      " 13  profit                10865 non-null  int64  \n",
      "dtypes: float64(3), int64(5), object(6)\n",
      "memory usage: 1.2+ MB\n"
     ]
    }
   ],
   "source": [
    "# I willl work with the clean data frame\n",
    "df=pd.read_csv('cleaned_tmdb.csv')\n",
    "df.info()"
   ]
  },
  {
   "cell_type": "code",
   "execution_count": 95,
   "metadata": {},
   "outputs": [],
   "source": [
    "df['release_date'] = pd.to_datetime(df['release_date']).apply(lambda x: x.date())"
   ]
  },
  {
   "cell_type": "markdown",
   "metadata": {},
   "source": [
    "<a id='q1'></a>\n",
    "### Research Question 1 ( What kinds of properties are associated with movies that have high profits?!)"
   ]
  },
  {
   "cell_type": "markdown",
   "metadata": {},
   "source": [
    ">Which movie had the highest and lowest profit?"
   ]
  },
  {
   "cell_type": "code",
   "execution_count": 20,
   "metadata": {},
   "outputs": [
    {
     "data": {
      "text/html": [
       "<div>\n",
       "<style scoped>\n",
       "    .dataframe tbody tr th:only-of-type {\n",
       "        vertical-align: middle;\n",
       "    }\n",
       "\n",
       "    .dataframe tbody tr th {\n",
       "        vertical-align: top;\n",
       "    }\n",
       "\n",
       "    .dataframe thead th {\n",
       "        text-align: right;\n",
       "    }\n",
       "</style>\n",
       "<table border=\"1\" class=\"dataframe\">\n",
       "  <thead>\n",
       "    <tr style=\"text-align: right;\">\n",
       "      <th></th>\n",
       "      <th>1329</th>\n",
       "    </tr>\n",
       "  </thead>\n",
       "  <tbody>\n",
       "    <tr>\n",
       "      <th>popularity</th>\n",
       "      <td>12.0379</td>\n",
       "    </tr>\n",
       "    <tr>\n",
       "      <th>original_title</th>\n",
       "      <td>Star Wars</td>\n",
       "    </tr>\n",
       "    <tr>\n",
       "      <th>cast</th>\n",
       "      <td>Mark Hamill|Harrison Ford|Carrie Fisher|Peter ...</td>\n",
       "    </tr>\n",
       "    <tr>\n",
       "      <th>director</th>\n",
       "      <td>George Lucas</td>\n",
       "    </tr>\n",
       "    <tr>\n",
       "      <th>runtime</th>\n",
       "      <td>121</td>\n",
       "    </tr>\n",
       "    <tr>\n",
       "      <th>genres</th>\n",
       "      <td>Adventure|Action|Science Fiction</td>\n",
       "    </tr>\n",
       "    <tr>\n",
       "      <th>production_companies</th>\n",
       "      <td>Lucasfilm|Twentieth Century Fox Film Corporation</td>\n",
       "    </tr>\n",
       "    <tr>\n",
       "      <th>release_date</th>\n",
       "      <td>1977-03-20</td>\n",
       "    </tr>\n",
       "    <tr>\n",
       "      <th>vote_count</th>\n",
       "      <td>4428</td>\n",
       "    </tr>\n",
       "    <tr>\n",
       "      <th>vote_average</th>\n",
       "      <td>7.9</td>\n",
       "    </tr>\n",
       "    <tr>\n",
       "      <th>release_year</th>\n",
       "      <td>1977</td>\n",
       "    </tr>\n",
       "    <tr>\n",
       "      <th>budget_adj</th>\n",
       "      <td>39575591</td>\n",
       "    </tr>\n",
       "    <tr>\n",
       "      <th>revenue_adj</th>\n",
       "      <td>2789712242</td>\n",
       "    </tr>\n",
       "    <tr>\n",
       "      <th>profit</th>\n",
       "      <td>2750136651</td>\n",
       "    </tr>\n",
       "  </tbody>\n",
       "</table>\n",
       "</div>"
      ],
      "text/plain": [
       "                                                                   1329\n",
       "popularity                                                      12.0379\n",
       "original_title                                                Star Wars\n",
       "cast                  Mark Hamill|Harrison Ford|Carrie Fisher|Peter ...\n",
       "director                                                   George Lucas\n",
       "runtime                                                             121\n",
       "genres                                 Adventure|Action|Science Fiction\n",
       "production_companies   Lucasfilm|Twentieth Century Fox Film Corporation\n",
       "release_date                                                 1977-03-20\n",
       "vote_count                                                         4428\n",
       "vote_average                                                        7.9\n",
       "release_year                                                       1977\n",
       "budget_adj                                                     39575591\n",
       "revenue_adj                                                  2789712242\n",
       "profit                                                       2750136651"
      ]
     },
     "metadata": {},
     "output_type": "display_data"
    },
    {
     "data": {
      "text/html": [
       "<div>\n",
       "<style scoped>\n",
       "    .dataframe tbody tr th:only-of-type {\n",
       "        vertical-align: middle;\n",
       "    }\n",
       "\n",
       "    .dataframe tbody tr th {\n",
       "        vertical-align: top;\n",
       "    }\n",
       "\n",
       "    .dataframe thead th {\n",
       "        text-align: right;\n",
       "    }\n",
       "</style>\n",
       "<table border=\"1\" class=\"dataframe\">\n",
       "  <thead>\n",
       "    <tr style=\"text-align: right;\">\n",
       "      <th></th>\n",
       "      <th>2243</th>\n",
       "    </tr>\n",
       "  </thead>\n",
       "  <tbody>\n",
       "    <tr>\n",
       "      <th>popularity</th>\n",
       "      <td>0.25054</td>\n",
       "    </tr>\n",
       "    <tr>\n",
       "      <th>original_title</th>\n",
       "      <td>The Warrior's Way</td>\n",
       "    </tr>\n",
       "    <tr>\n",
       "      <th>cast</th>\n",
       "      <td>Kate Bosworth|Jang Dong-gun|Geoffrey Rush|Dann...</td>\n",
       "    </tr>\n",
       "    <tr>\n",
       "      <th>director</th>\n",
       "      <td>Sngmoo Lee</td>\n",
       "    </tr>\n",
       "    <tr>\n",
       "      <th>runtime</th>\n",
       "      <td>100</td>\n",
       "    </tr>\n",
       "    <tr>\n",
       "      <th>genres</th>\n",
       "      <td>Adventure|Fantasy|Action|Western|Thriller</td>\n",
       "    </tr>\n",
       "    <tr>\n",
       "      <th>production_companies</th>\n",
       "      <td>Boram Entertainment Inc.</td>\n",
       "    </tr>\n",
       "    <tr>\n",
       "      <th>release_date</th>\n",
       "      <td>2010-12-02</td>\n",
       "    </tr>\n",
       "    <tr>\n",
       "      <th>vote_count</th>\n",
       "      <td>74</td>\n",
       "    </tr>\n",
       "    <tr>\n",
       "      <th>vote_average</th>\n",
       "      <td>6.4</td>\n",
       "    </tr>\n",
       "    <tr>\n",
       "      <th>release_year</th>\n",
       "      <td>2010</td>\n",
       "    </tr>\n",
       "    <tr>\n",
       "      <th>budget_adj</th>\n",
       "      <td>425000000</td>\n",
       "    </tr>\n",
       "    <tr>\n",
       "      <th>revenue_adj</th>\n",
       "      <td>11087569</td>\n",
       "    </tr>\n",
       "    <tr>\n",
       "      <th>profit</th>\n",
       "      <td>-413912431</td>\n",
       "    </tr>\n",
       "  </tbody>\n",
       "</table>\n",
       "</div>"
      ],
      "text/plain": [
       "                                                                   2243\n",
       "popularity                                                      0.25054\n",
       "original_title                                        The Warrior's Way\n",
       "cast                  Kate Bosworth|Jang Dong-gun|Geoffrey Rush|Dann...\n",
       "director                                                     Sngmoo Lee\n",
       "runtime                                                             100\n",
       "genres                        Adventure|Fantasy|Action|Western|Thriller\n",
       "production_companies                           Boram Entertainment Inc.\n",
       "release_date                                                 2010-12-02\n",
       "vote_count                                                           74\n",
       "vote_average                                                        6.4\n",
       "release_year                                                       2010\n",
       "budget_adj                                                    425000000\n",
       "revenue_adj                                                    11087569\n",
       "profit                                                       -413912431"
      ]
     },
     "metadata": {},
     "output_type": "display_data"
    }
   ],
   "source": [
    "\n",
    "lowest=df['profit'].idxmin()\n",
    "highest=df['profit'].idxmax()\n",
    "highest_details = pd.DataFrame(df.loc[highest])\n",
    "lowest_details = pd.DataFrame(df.loc[lowest])\n",
    "display(highest_details)\n",
    "display(lowest_details)\n"
   ]
  },
  {
   "cell_type": "markdown",
   "metadata": {},
   "source": [
    "> From resualt above Star Wars movie have the highest profit by 2.75 Billion dollars.\n",
    "and The Warrior's Way movie have the highest loss around 413 Billion dollars  ."
   ]
  },
  {
   "cell_type": "markdown",
   "metadata": {},
   "source": [
    ">In order to analyze on the properties that are associated with movies that have high profit, I will filter the dataset to movies that made profit of more than the average profits ."
   ]
  },
  {
   "cell_type": "code",
   "execution_count": 130,
   "metadata": {},
   "outputs": [
    {
     "data": {
      "text/plain": [
       "78211818.19530603"
      ]
     },
     "execution_count": 130,
     "metadata": {},
     "output_type": "execute_result"
    }
   ],
   "source": [
    "#ُThe value that we will divide data Depending on it\n",
    "\n",
    "\n",
    "df.profit.mean()"
   ]
  },
  {
   "cell_type": "code",
   "execution_count": 21,
   "metadata": {},
   "outputs": [
    {
     "data": {
      "text/html": [
       "<div>\n",
       "<style scoped>\n",
       "    .dataframe tbody tr th:only-of-type {\n",
       "        vertical-align: middle;\n",
       "    }\n",
       "\n",
       "    .dataframe tbody tr th {\n",
       "        vertical-align: top;\n",
       "    }\n",
       "\n",
       "    .dataframe thead th {\n",
       "        text-align: right;\n",
       "    }\n",
       "</style>\n",
       "<table border=\"1\" class=\"dataframe\">\n",
       "  <thead>\n",
       "    <tr style=\"text-align: right;\">\n",
       "      <th></th>\n",
       "      <th>popularity</th>\n",
       "      <th>original_title</th>\n",
       "      <th>cast</th>\n",
       "      <th>director</th>\n",
       "      <th>runtime</th>\n",
       "      <th>genres</th>\n",
       "      <th>production_companies</th>\n",
       "      <th>release_date</th>\n",
       "      <th>vote_count</th>\n",
       "      <th>vote_average</th>\n",
       "      <th>release_year</th>\n",
       "      <th>budget_adj</th>\n",
       "      <th>revenue_adj</th>\n",
       "      <th>profit</th>\n",
       "    </tr>\n",
       "  </thead>\n",
       "  <tbody>\n",
       "    <tr>\n",
       "      <th>0</th>\n",
       "      <td>32.985763</td>\n",
       "      <td>Jurassic World</td>\n",
       "      <td>Chris Pratt|Bryce Dallas Howard|Irrfan Khan|Vi...</td>\n",
       "      <td>Colin Trevorrow</td>\n",
       "      <td>124.0</td>\n",
       "      <td>Action|Adventure|Science Fiction|Thriller</td>\n",
       "      <td>Universal Studios|Amblin Entertainment|Legenda...</td>\n",
       "      <td>2015-06-09</td>\n",
       "      <td>5562</td>\n",
       "      <td>6.5</td>\n",
       "      <td>2015</td>\n",
       "      <td>137999939</td>\n",
       "      <td>1392445892</td>\n",
       "      <td>1254445953</td>\n",
       "    </tr>\n",
       "    <tr>\n",
       "      <th>1</th>\n",
       "      <td>28.419936</td>\n",
       "      <td>Mad Max: Fury Road</td>\n",
       "      <td>Tom Hardy|Charlize Theron|Hugh Keays-Byrne|Nic...</td>\n",
       "      <td>George Miller</td>\n",
       "      <td>120.0</td>\n",
       "      <td>Action|Adventure|Science Fiction|Thriller</td>\n",
       "      <td>Village Roadshow Pictures|Kennedy Miller Produ...</td>\n",
       "      <td>2015-05-13</td>\n",
       "      <td>6185</td>\n",
       "      <td>7.1</td>\n",
       "      <td>2015</td>\n",
       "      <td>137999939</td>\n",
       "      <td>348161292</td>\n",
       "      <td>210161353</td>\n",
       "    </tr>\n",
       "    <tr>\n",
       "      <th>2</th>\n",
       "      <td>13.112507</td>\n",
       "      <td>Insurgent</td>\n",
       "      <td>Shailene Woodley|Theo James|Kate Winslet|Ansel...</td>\n",
       "      <td>Robert Schwentke</td>\n",
       "      <td>119.0</td>\n",
       "      <td>Adventure|Science Fiction|Thriller</td>\n",
       "      <td>Summit Entertainment|Mandeville Films|Red Wago...</td>\n",
       "      <td>2015-03-18</td>\n",
       "      <td>2480</td>\n",
       "      <td>6.3</td>\n",
       "      <td>2015</td>\n",
       "      <td>101199955</td>\n",
       "      <td>271619025</td>\n",
       "      <td>170419070</td>\n",
       "    </tr>\n",
       "    <tr>\n",
       "      <th>3</th>\n",
       "      <td>11.173104</td>\n",
       "      <td>Star Wars: The Force Awakens</td>\n",
       "      <td>Harrison Ford|Mark Hamill|Carrie Fisher|Adam D...</td>\n",
       "      <td>J.J. Abrams</td>\n",
       "      <td>136.0</td>\n",
       "      <td>Action|Adventure|Science Fiction|Fantasy</td>\n",
       "      <td>Lucasfilm|Truenorth Productions|Bad Robot</td>\n",
       "      <td>2015-12-15</td>\n",
       "      <td>5292</td>\n",
       "      <td>7.5</td>\n",
       "      <td>2015</td>\n",
       "      <td>183999919</td>\n",
       "      <td>1902723129</td>\n",
       "      <td>1718723210</td>\n",
       "    </tr>\n",
       "    <tr>\n",
       "      <th>4</th>\n",
       "      <td>9.335014</td>\n",
       "      <td>Furious 7</td>\n",
       "      <td>Vin Diesel|Paul Walker|Jason Statham|Michelle ...</td>\n",
       "      <td>James Wan</td>\n",
       "      <td>137.0</td>\n",
       "      <td>Action|Crime|Thriller</td>\n",
       "      <td>Universal Pictures|Original Film|Media Rights ...</td>\n",
       "      <td>2015-04-01</td>\n",
       "      <td>2947</td>\n",
       "      <td>7.3</td>\n",
       "      <td>2015</td>\n",
       "      <td>174799923</td>\n",
       "      <td>1385748801</td>\n",
       "      <td>1210948878</td>\n",
       "    </tr>\n",
       "  </tbody>\n",
       "</table>\n",
       "</div>"
      ],
      "text/plain": [
       "   popularity                original_title  \\\n",
       "0   32.985763                Jurassic World   \n",
       "1   28.419936            Mad Max: Fury Road   \n",
       "2   13.112507                     Insurgent   \n",
       "3   11.173104  Star Wars: The Force Awakens   \n",
       "4    9.335014                     Furious 7   \n",
       "\n",
       "                                                cast          director  \\\n",
       "0  Chris Pratt|Bryce Dallas Howard|Irrfan Khan|Vi...   Colin Trevorrow   \n",
       "1  Tom Hardy|Charlize Theron|Hugh Keays-Byrne|Nic...     George Miller   \n",
       "2  Shailene Woodley|Theo James|Kate Winslet|Ansel...  Robert Schwentke   \n",
       "3  Harrison Ford|Mark Hamill|Carrie Fisher|Adam D...       J.J. Abrams   \n",
       "4  Vin Diesel|Paul Walker|Jason Statham|Michelle ...         James Wan   \n",
       "\n",
       "   runtime                                     genres  \\\n",
       "0    124.0  Action|Adventure|Science Fiction|Thriller   \n",
       "1    120.0  Action|Adventure|Science Fiction|Thriller   \n",
       "2    119.0         Adventure|Science Fiction|Thriller   \n",
       "3    136.0   Action|Adventure|Science Fiction|Fantasy   \n",
       "4    137.0                      Action|Crime|Thriller   \n",
       "\n",
       "                                production_companies release_date  vote_count  \\\n",
       "0  Universal Studios|Amblin Entertainment|Legenda...   2015-06-09        5562   \n",
       "1  Village Roadshow Pictures|Kennedy Miller Produ...   2015-05-13        6185   \n",
       "2  Summit Entertainment|Mandeville Films|Red Wago...   2015-03-18        2480   \n",
       "3          Lucasfilm|Truenorth Productions|Bad Robot   2015-12-15        5292   \n",
       "4  Universal Pictures|Original Film|Media Rights ...   2015-04-01        2947   \n",
       "\n",
       "   vote_average  release_year  budget_adj  revenue_adj      profit  \n",
       "0           6.5          2015   137999939   1392445892  1254445953  \n",
       "1           7.1          2015   137999939    348161292   210161353  \n",
       "2           6.3          2015   101199955    271619025   170419070  \n",
       "3           7.5          2015   183999919   1902723129  1718723210  \n",
       "4           7.3          2015   174799923   1385748801  1210948878  "
      ]
     },
     "execution_count": 21,
     "metadata": {},
     "output_type": "execute_result"
    }
   ],
   "source": [
    "\n",
    "# all the movies with profits greater than the mean(78211818.19530603) \n",
    "High_profit=df.query('profit > profit.mean()')\n",
    "High_profit.head()"
   ]
  },
  {
   "cell_type": "markdown",
   "metadata": {},
   "source": [
    " >create new dataframe by filter to movies that made profit of more than mean profits \n",
    " - Now we will deal with this specific data "
   ]
  },
  {
   "cell_type": "code",
   "execution_count": 76,
   "metadata": {},
   "outputs": [
    {
     "data": {
      "image/png": "[encoded data removed]",
      "text/plain": [
       "<Figure size 720x720 with 64 Axes>"
      ]
     },
     "metadata": {
      "needs_background": "light"
     },
     "output_type": "display_data"
    }
   ],
   "source": [
    "#Explore Relations Between Values¶\n",
    "\n",
    "pd.plotting.scatter_matrix(df,figsize=(10,10));"
   ]
  },
  {
   "cell_type": "code",
   "execution_count": 77,
   "metadata": {},
   "outputs": [
    {
     "name": "stdout",
     "output_type": "stream",
     "text": [
      "the relation between profit and other values to know which values have the most impact on profit: \n",
      " popularity : 0.5145878483131591\n",
      " runtime : 0.2369173364369937\n",
      " vote_average : 0.3084112686280852\n",
      " budget_adj : 0.46911992235750216 .\n"
     ]
    }
   ],
   "source": [
    "Hp=High_profit['profit'].corr(df['popularity'])\n",
    "Hr=High_profit['profit'].corr(df['runtime'])\n",
    "Hv=High_profit['profit'].corr(df['vote_average'])\n",
    "Hb=High_profit['profit'].corr(df['budget_adj'])\n",
    "print('the relation between profit and other values to know which values have the most impact on profit: '\n",
    "      '\\n popularity : {}' '\\n runtime : {}' '\\n vote_average : {}' '\\n budget_adj : {}'' .'.format(Hp,Hr,Hv,Hb))"
   ]
  },
  {
   "cell_type": "markdown",
   "metadata": {},
   "source": [
    ">There is a strong correlation between profit and popularity and budget_adj , mediam correlation with runtime and vote_average ."
   ]
  },
  {
   "cell_type": "code",
   "execution_count": 96,
   "metadata": {},
   "outputs": [
    {
     "data": {
      "text/html": [
       "<div>\n",
       "<style scoped>\n",
       "    .dataframe tbody tr th:only-of-type {\n",
       "        vertical-align: middle;\n",
       "    }\n",
       "\n",
       "    .dataframe tbody tr th {\n",
       "        vertical-align: top;\n",
       "    }\n",
       "\n",
       "    .dataframe thead th {\n",
       "        text-align: right;\n",
       "    }\n",
       "</style>\n",
       "<table border=\"1\" class=\"dataframe\">\n",
       "  <thead>\n",
       "    <tr style=\"text-align: right;\">\n",
       "      <th></th>\n",
       "      <th>popularity</th>\n",
       "      <th>runtime</th>\n",
       "      <th>vote_count</th>\n",
       "      <th>vote_average</th>\n",
       "      <th>release_year</th>\n",
       "      <th>budget_adj</th>\n",
       "      <th>revenue_adj</th>\n",
       "      <th>profit</th>\n",
       "    </tr>\n",
       "  </thead>\n",
       "  <tbody>\n",
       "    <tr>\n",
       "      <th>count</th>\n",
       "      <td>2421.000000</td>\n",
       "      <td>2421.000000</td>\n",
       "      <td>2421.000000</td>\n",
       "      <td>2421.000000</td>\n",
       "      <td>2421.000000</td>\n",
       "      <td>2.421000e+03</td>\n",
       "      <td>2.421000e+03</td>\n",
       "      <td>2.421000e+03</td>\n",
       "    </tr>\n",
       "    <tr>\n",
       "      <th>mean</th>\n",
       "      <td>1.223623</td>\n",
       "      <td>107.457700</td>\n",
       "      <td>592.786452</td>\n",
       "      <td>6.053697</td>\n",
       "      <td>2000.266006</td>\n",
       "      <td>4.080258e+07</td>\n",
       "      <td>2.319849e+08</td>\n",
       "      <td>1.911823e+08</td>\n",
       "    </tr>\n",
       "    <tr>\n",
       "      <th>std</th>\n",
       "      <td>1.753380</td>\n",
       "      <td>26.735167</td>\n",
       "      <td>1046.769596</td>\n",
       "      <td>0.966561</td>\n",
       "      <td>13.196586</td>\n",
       "      <td>4.976538e+07</td>\n",
       "      <td>2.326270e+08</td>\n",
       "      <td>2.050917e+08</td>\n",
       "    </tr>\n",
       "    <tr>\n",
       "      <th>min</th>\n",
       "      <td>0.001349</td>\n",
       "      <td>4.000000</td>\n",
       "      <td>10.000000</td>\n",
       "      <td>1.500000</td>\n",
       "      <td>1960.000000</td>\n",
       "      <td>0.000000e+00</td>\n",
       "      <td>8.361457e+07</td>\n",
       "      <td>7.822307e+07</td>\n",
       "    </tr>\n",
       "    <tr>\n",
       "      <th>25%</th>\n",
       "      <td>0.318495</td>\n",
       "      <td>92.000000</td>\n",
       "      <td>26.000000</td>\n",
       "      <td>5.500000</td>\n",
       "      <td>1993.000000</td>\n",
       "      <td>6.098402e+06</td>\n",
       "      <td>1.151009e+08</td>\n",
       "      <td>1.045842e+08</td>\n",
       "    </tr>\n",
       "    <tr>\n",
       "      <th>50%</th>\n",
       "      <td>0.658866</td>\n",
       "      <td>102.000000</td>\n",
       "      <td>139.000000</td>\n",
       "      <td>6.100000</td>\n",
       "      <td>2004.000000</td>\n",
       "      <td>2.180000e+07</td>\n",
       "      <td>1.151009e+08</td>\n",
       "      <td>1.136462e+08</td>\n",
       "    </tr>\n",
       "    <tr>\n",
       "      <th>75%</th>\n",
       "      <td>1.525009</td>\n",
       "      <td>119.000000</td>\n",
       "      <td>677.000000</td>\n",
       "      <td>6.700000</td>\n",
       "      <td>2011.000000</td>\n",
       "      <td>5.689693e+07</td>\n",
       "      <td>2.530897e+08</td>\n",
       "      <td>1.844223e+08</td>\n",
       "    </tr>\n",
       "    <tr>\n",
       "      <th>max</th>\n",
       "      <td>32.985763</td>\n",
       "      <td>705.000000</td>\n",
       "      <td>9767.000000</td>\n",
       "      <td>8.400000</td>\n",
       "      <td>2015.000000</td>\n",
       "      <td>3.683713e+08</td>\n",
       "      <td>2.827124e+09</td>\n",
       "      <td>2.750137e+09</td>\n",
       "    </tr>\n",
       "  </tbody>\n",
       "</table>\n",
       "</div>"
      ],
      "text/plain": [
       "        popularity      runtime   vote_count  vote_average  release_year  \\\n",
       "count  2421.000000  2421.000000  2421.000000   2421.000000   2421.000000   \n",
       "mean      1.223623   107.457700   592.786452      6.053697   2000.266006   \n",
       "std       1.753380    26.735167  1046.769596      0.966561     13.196586   \n",
       "min       0.001349     4.000000    10.000000      1.500000   1960.000000   \n",
       "25%       0.318495    92.000000    26.000000      5.500000   1993.000000   \n",
       "50%       0.658866   102.000000   139.000000      6.100000   2004.000000   \n",
       "75%       1.525009   119.000000   677.000000      6.700000   2011.000000   \n",
       "max      32.985763   705.000000  9767.000000      8.400000   2015.000000   \n",
       "\n",
       "         budget_adj   revenue_adj        profit  \n",
       "count  2.421000e+03  2.421000e+03  2.421000e+03  \n",
       "mean   4.080258e+07  2.319849e+08  1.911823e+08  \n",
       "std    4.976538e+07  2.326270e+08  2.050917e+08  \n",
       "min    0.000000e+00  8.361457e+07  7.822307e+07  \n",
       "25%    6.098402e+06  1.151009e+08  1.045842e+08  \n",
       "50%    2.180000e+07  1.151009e+08  1.136462e+08  \n",
       "75%    5.689693e+07  2.530897e+08  1.844223e+08  \n",
       "max    3.683713e+08  2.827124e+09  2.750137e+09  "
      ]
     },
     "execution_count": 96,
     "metadata": {},
     "output_type": "execute_result"
    }
   ],
   "source": [
    "High_profit.describe()"
   ]
  },
  {
   "cell_type": "markdown",
   "metadata": {},
   "source": [
    ">From 10,865 movies, we are now down with only 2,421 movies which have profit higher than the average\\\n",
    ". The highest earning movie is 2.75 Billion dollars."
   ]
  },
  {
   "cell_type": "markdown",
   "metadata": {},
   "source": [
    "#### - High profit movie average popularity?"
   ]
  },
  {
   "cell_type": "code",
   "execution_count": 80,
   "metadata": {},
   "outputs": [
    {
     "data": {
      "text/plain": [
       "1.2236230268484056"
      ]
     },
     "execution_count": 80,
     "metadata": {},
     "output_type": "execute_result"
    }
   ],
   "source": [
    "#the average popularity of the movies\n",
    "High_profit['popularity'].mean()"
   ]
  },
  {
   "cell_type": "markdown",
   "metadata": {},
   "source": [
    ">Based on the above, the average popularity for high profit movies is 1.223 million. Let's use visualization to see the distribution of the popularity."
   ]
  },
  {
   "cell_type": "code",
   "execution_count": 81,
   "metadata": {},
   "outputs": [
    {
     "data": {
      "image/png": "[encoded data removed]",
      "text/plain": [
       "<Figure size 1000x500 with 1 Axes>"
      ]
     },
     "metadata": {
      "needs_background": "light"
     },
     "output_type": "display_data"
    }
   ],
   "source": [
    "# create histogram to see the distribution of the popularity \n",
    "plt.figure(figsize=(10,5), dpi = 100)\n",
    "sns.set_style('darkgrid')\n",
    "# x-axis \n",
    "plt.xlabel('Movie popularity(Million)', fontsize = 15)\n",
    "# y-axis \n",
    "plt.ylabel('No. of Movies', fontsize=15)\n",
    "# distribution title\n",
    "plt.title('Movie popularity Distribution', fontsize=15)\n",
    "\n",
    "# Plot the histogram\n",
    "plt.hist(High_profit['popularity'], rwidth = 0.9, bins =35)\n",
    "# Displays the plot\n",
    "plt.show()"
   ]
  },
  {
   "cell_type": "markdown",
   "metadata": {},
   "source": [
    ">Alot of high profit movies have low popularity "
   ]
  },
  {
   "cell_type": "markdown",
   "metadata": {},
   "source": [
    "#### High profit movies average properties ?\n"
   ]
  },
  {
   "cell_type": "code",
   "execution_count": 92,
   "metadata": {},
   "outputs": [
    {
     "name": "stdout",
     "output_type": "stream",
     "text": [
      "High profit movies averages: \n",
      " popularity : 1.2236230268484056\n",
      " runtime : 107.45769994365803\n",
      " vote_average : 6.053696819496078\n",
      " revenue_adj : 231984910.29822388\n",
      " budget_adj : 40802582.53118546 .\n"
     ]
    }
   ],
   "source": [
    "\n",
    "mp=High_profit['popularity'].mean()\n",
    "mr=High_profit['runtime'].mean()\n",
    "mv=High_profit['vote_average'].mean()\n",
    "mb=High_profit['revenue_adj'].mean()\n",
    "md=High_profit['budget_adj'].mean()\n",
    "print('High profit movies averages: '\n",
    "      '\\n popularity : {}' '\\n runtime : {}' '\\n vote_average : {}' '\\n revenue_adj : {}' '\\n budget_adj : {}'' .'.format(mp,mr,mv,mb,md))"
   ]
  },
  {
   "cell_type": "markdown",
   "metadata": {},
   "source": [
    ">**Based on the above,**\n",
    "\n",
    " >the average budget for high revenue movies is around 4 Million dollars($ 40,803,582)\n",
    " >\n",
    " \n",
    " >the average revenue for high revenue movies is around 231 Million dollars ($231984910) \n"
   ]
  },
  {
   "cell_type": "markdown",
   "metadata": {},
   "source": [
    "#### Which year that makes the highest profit ?\n"
   ]
  },
  {
   "cell_type": "code",
   "execution_count": 93,
   "metadata": {},
   "outputs": [
    {
     "data": {
      "text/plain": [
       "2013"
      ]
     },
     "execution_count": 93,
     "metadata": {},
     "output_type": "execute_result"
    }
   ],
   "source": [
    "# release year have highest profit\n",
    "highest_profit_year = High_profit.groupby('release_year')['profit'].sum()\n",
    "highest_profit_year.idxmax()"
   ]
  },
  {
   "cell_type": "code",
   "execution_count": 94,
   "metadata": {},
   "outputs": [
    {
     "data": {
      "image/png": "[encoded data removed]",
      "text/plain": [
       "<Figure size 1560x780 with 1 Axes>"
      ]
     },
     "metadata": {},
     "output_type": "display_data"
    }
   ],
   "source": [
    "# Figure size\n",
    "plt.figure(figsize=(12,6), dpi = 130)\n",
    "sns.set_style('darkgrid')\n",
    "# x-axis\n",
    "plt.xlabel('Year', fontsize = 12)\n",
    "# y-axis\n",
    "plt.ylabel('Profit', fontsize = 12)\n",
    "# Title\n",
    "plt.title('Higtest Profit Year')\n",
    "\n",
    "# Plot line Chart\n",
    "plt.plot(highest_profit_year)\n",
    "\n",
    "# Display the line Chart\n",
    "plt.show()"
   ]
  },
  {
   "cell_type": "markdown",
   "metadata": {},
   "source": [
    "> movies production increased through time , and its Profitable operation !\\\n",
    "> we can see that the movies makes the highest profits in year 2013.\n"
   ]
  },
  {
   "cell_type": "markdown",
   "metadata": {},
   "source": [
    "> create function to bring bake the cout values separately form string columns:\\\n",
    "cast , production companies , genres"
   ]
  },
  {
   "cell_type": "code",
   "execution_count": 83,
   "metadata": {},
   "outputs": [],
   "source": [
    "def extract_high_proft_data(column):\n",
    "\n",
    "    data = High_profit[column].str.cat(sep = '|')\n",
    "    \n",
    "    # create pandas series and store the values separately\n",
    "    data = pd.Series(data.split('|'))\n",
    "    \n",
    "    # display value count in descending order\n",
    "    count = data.value_counts(ascending = False)\n",
    "    \n",
    "    return count"
   ]
  },
  {
   "cell_type": "markdown",
   "metadata": {},
   "source": [
    "#### High Profit Movies Casts ?\n"
   ]
  },
  {
   "cell_type": "code",
   "execution_count": 98,
   "metadata": {},
   "outputs": [
    {
     "data": {
      "text/plain": [
       "Tom Cruise            27\n",
       "Robert De Niro        25\n",
       "Bruce Willis          25\n",
       "Tom Hanks             25\n",
       "Samuel L. Jackson     23\n",
       "Steven Seagal         23\n",
       "Sylvester Stallone    22\n",
       "Nicolas Cage          21\n",
       "Brad Pitt             21\n",
       "Nicole Kidman         20\n",
       "dtype: int64"
      ]
     },
     "execution_count": 98,
     "metadata": {},
     "output_type": "execute_result"
    }
   ],
   "source": [
    "# get top 10 casts\n",
    "top_cast = extract_high_proft_data('cast')\n",
    "top_cast.head(10)"
   ]
  },
  {
   "cell_type": "markdown",
   "metadata": {},
   "source": [
    ">The top two male actors with more than 20 movies are Tom Cruise (27 movies) and Robert De Niro (25 movies).\\\n",
    "As for female actress are Nicole Kidman (20 movies).\\ \n",
    "Seems like there are more high revenue movies actors than actress as out of the 10 cast from the above list there are only 1 female."
   ]
  },
  {
   "cell_type": "markdown",
   "metadata": {},
   "source": [
    "#### High Profit Movies directors ?\n"
   ]
  },
  {
   "cell_type": "code",
   "execution_count": 99,
   "metadata": {},
   "outputs": [
    {
     "data": {
      "text/plain": [
       "Steven Spielberg     23\n",
       "Woody Allen          15\n",
       "Robert Zemeckis      13\n",
       "Ron Howard           12\n",
       "Ridley Scott         11\n",
       "Tim Burton           11\n",
       "Clint Eastwood       11\n",
       "Martin Scorsese      10\n",
       "Peter Jackson         9\n",
       "Steven Soderbergh     9\n",
       "dtype: int64"
      ]
     },
     "execution_count": 99,
     "metadata": {},
     "output_type": "execute_result"
    }
   ],
   "source": [
    "# get top 10 directors\n",
    "top_directors = extract_high_proft_data('director')\n",
    "top_directors.head(10)"
   ]
  },
  {
   "cell_type": "markdown",
   "metadata": {},
   "source": [
    ">Steven Spielberg (23 movies) is the top director that makes the most movies for the 55 years between 1960 to 2015 with high profit followed by Woody Allen with 15 movies and Robert Zemeckis with 13 movies."
   ]
  },
  {
   "cell_type": "markdown",
   "metadata": {},
   "source": [
    "#### High Profit Movies production companies ?\n"
   ]
  },
  {
   "cell_type": "code",
   "execution_count": 100,
   "metadata": {},
   "outputs": [
    {
     "data": {
      "text/plain": [
       "Universal Pictures                        174\n",
       "Warner Bros.                              168\n",
       "Paramount Pictures                        157\n",
       "Twentieth Century Fox Film Corporation    125\n",
       "Columbia Pictures                          91\n",
       "Walt Disney Pictures                       76\n",
       "Metro-Goldwyn-Mayer (MGM)                  64\n",
       "New Line Cinema                            63\n",
       "Columbia Pictures Corporation              60\n",
       "Touchstone Pictures                        53\n",
       "dtype: int64"
      ]
     },
     "execution_count": 100,
     "metadata": {},
     "output_type": "execute_result"
    }
   ],
   "source": [
    "# get top 10 production companies\n",
    "top_production_companies = extract_high_proft_data('production_companies')\n",
    "top_production_companies.head(10)"
   ]
  },
  {
   "cell_type": "markdown",
   "metadata": {},
   "source": [
    ">The top production is Universal Pictures (174 movies), Warner Bros (168 movies) and Paramount Picture (157 movies). Amazing that the top three production companies produces more than 480 movies for the 55 years between 1960 to 2015 and they are also the ones that top the production companies with high profit movies list."
   ]
  },
  {
   "cell_type": "markdown",
   "metadata": {},
   "source": [
    "#### High Profit Movies genre ?\n"
   ]
  },
  {
   "cell_type": "code",
   "execution_count": 125,
   "metadata": {},
   "outputs": [
    {
     "data": {
      "text/plain": [
       "Drama              960\n",
       "Comedy             775\n",
       "Thriller           756\n",
       "Action             725\n",
       "Adventure          488\n",
       "Horror             400\n",
       "Romance            374\n",
       "Science Fiction    367\n",
       "Crime              341\n",
       "Family             281\n",
       "dtype: int64"
      ]
     },
     "execution_count": 125,
     "metadata": {},
     "output_type": "execute_result"
    }
   ],
   "source": [
    "# get top 10 genre\n",
    "top_genre = extract_high_proft_data('genres')\n",
    "t=top_genre.head(10)\n",
    "t "
   ]
  },
  {
   "cell_type": "markdown",
   "metadata": {},
   "source": [
    ">Drama movies have the highest profit with 960 movies followed by Comedy with 775 movies and Thriller with 756 movies, Surprisingly Action movies and Adventure wich have the highest popularity they come in fourth and fifth place in terms of the number of most profitable movies."
   ]
  },
  {
   "cell_type": "code",
   "execution_count": 124,
   "metadata": {},
   "outputs": [
    {
     "data": {
      "image/png": "[encoded data removed]",
      "text/plain": [
       "<Figure size 1080x576 with 1 Axes>"
      ]
     },
     "metadata": {},
     "output_type": "display_data"
    }
   ],
   "source": [
    "# Figure size\n",
    "plt.figure(figsize=(15,8))\n",
    "sns.set_style('darkgrid')\n",
    "\n",
    "genre_name = ['Drama', 'Comedy', 'Thriller', 'Action', 'Adventure', 'Horror', 'Romance', 'Science Fiction ', 'Crime', 'Family']\n",
    "#\n",
    "plt.bar([1,2,3,4,5,6,7,8,9,10],t,tick_label = genre_name )\n",
    "# Title\n",
    "plt.title('Highest Profit Top 10 Genres')\n",
    "# y-axis\n",
    "plt.ylabel('NO.of Movies')\n",
    "# x-axis\n",
    "plt.xlabel('Genres');\n"
   ]
  },
  {
   "cell_type": "markdown",
   "metadata": {},
   "source": [
    "<a id='q2'></a>\n",
    "### Research Question 2  (What kinds of properties are associated with movies that have high Score?!)"
   ]
  },
  {
   "cell_type": "markdown",
   "metadata": {},
   "source": [
    "> The data need accurate scale so I will add feature \" Score \" "
   ]
  },
  {
   "cell_type": "code",
   "execution_count": 29,
   "metadata": {},
   "outputs": [
    {
     "data": {
      "text/html": [
       "<div>\n",
       "<style scoped>\n",
       "    .dataframe tbody tr th:only-of-type {\n",
       "        vertical-align: middle;\n",
       "    }\n",
       "\n",
       "    .dataframe tbody tr th {\n",
       "        vertical-align: top;\n",
       "    }\n",
       "\n",
       "    .dataframe thead th {\n",
       "        text-align: right;\n",
       "    }\n",
       "</style>\n",
       "<table border=\"1\" class=\"dataframe\">\n",
       "  <thead>\n",
       "    <tr style=\"text-align: right;\">\n",
       "      <th></th>\n",
       "      <th>popularity</th>\n",
       "      <th>original_title</th>\n",
       "      <th>cast</th>\n",
       "      <th>director</th>\n",
       "      <th>runtime</th>\n",
       "      <th>genres</th>\n",
       "      <th>production_companies</th>\n",
       "      <th>release_date</th>\n",
       "      <th>vote_count</th>\n",
       "      <th>vote_average</th>\n",
       "      <th>release_year</th>\n",
       "      <th>budget_adj</th>\n",
       "      <th>revenue_adj</th>\n",
       "      <th>profit</th>\n",
       "      <th>score</th>\n",
       "    </tr>\n",
       "  </thead>\n",
       "  <tbody>\n",
       "    <tr>\n",
       "      <th>4177</th>\n",
       "      <td>7.192039</td>\n",
       "      <td>The Shawshank Redemption</td>\n",
       "      <td>Tim Robbins|Morgan Freeman|Bob Gunton|William ...</td>\n",
       "      <td>Frank Darabont</td>\n",
       "      <td>142.0</td>\n",
       "      <td>Drama|Crime</td>\n",
       "      <td>Castle Rock Entertainment</td>\n",
       "      <td>1994-09-10</td>\n",
       "      <td>5754</td>\n",
       "      <td>8.4</td>\n",
       "      <td>1994</td>\n",
       "      <td>36777789</td>\n",
       "      <td>41693462</td>\n",
       "      <td>4915673</td>\n",
       "      <td>8.316969</td>\n",
       "    </tr>\n",
       "    <tr>\n",
       "      <th>7268</th>\n",
       "      <td>5.738034</td>\n",
       "      <td>The Godfather</td>\n",
       "      <td>Marlon Brando|Al Pacino|James Caan|Richard S. ...</td>\n",
       "      <td>Francis Ford Coppola</td>\n",
       "      <td>175.0</td>\n",
       "      <td>Drama|Crime</td>\n",
       "      <td>Paramount Pictures|Alfran Productions</td>\n",
       "      <td>1972-03-15</td>\n",
       "      <td>3970</td>\n",
       "      <td>8.3</td>\n",
       "      <td>1972</td>\n",
       "      <td>31287365</td>\n",
       "      <td>1277913732</td>\n",
       "      <td>1246626367</td>\n",
       "      <td>8.186369</td>\n",
       "    </tr>\n",
       "    <tr>\n",
       "      <th>2874</th>\n",
       "      <td>8.466668</td>\n",
       "      <td>The Dark Knight</td>\n",
       "      <td>Christian Bale|Michael Caine|Heath Ledger|Aaro...</td>\n",
       "      <td>Christopher Nolan</td>\n",
       "      <td>152.0</td>\n",
       "      <td>Drama|Action|Crime|Thriller</td>\n",
       "      <td>DC Comics|Legendary Pictures|Warner Bros.|Syncopy</td>\n",
       "      <td>2008-07-16</td>\n",
       "      <td>8432</td>\n",
       "      <td>8.1</td>\n",
       "      <td>2008</td>\n",
       "      <td>187365527</td>\n",
       "      <td>1014733032</td>\n",
       "      <td>827367505</td>\n",
       "      <td>8.049803</td>\n",
       "    </tr>\n",
       "    <tr>\n",
       "      <th>2408</th>\n",
       "      <td>8.947905</td>\n",
       "      <td>Fight Club</td>\n",
       "      <td>Edward Norton|Brad Pitt|Meat Loaf|Jared Leto|H...</td>\n",
       "      <td>David Fincher</td>\n",
       "      <td>139.0</td>\n",
       "      <td>Drama</td>\n",
       "      <td>Regency Enterprises|Fox 2000 Pictures|Taurus F...</td>\n",
       "      <td>1999-10-14</td>\n",
       "      <td>5923</td>\n",
       "      <td>8.1</td>\n",
       "      <td>1999</td>\n",
       "      <td>82470329</td>\n",
       "      <td>132022892</td>\n",
       "      <td>49552563</td>\n",
       "      <td>8.029248</td>\n",
       "    </tr>\n",
       "    <tr>\n",
       "      <th>650</th>\n",
       "      <td>4.780419</td>\n",
       "      <td>Whiplash</td>\n",
       "      <td>Miles Teller|J.K. Simmons|Melissa Benoist|Aust...</td>\n",
       "      <td>Damien Chazelle</td>\n",
       "      <td>105.0</td>\n",
       "      <td>Drama|Music</td>\n",
       "      <td>Bold Films|Blumhouse Productions|Right of Way ...</td>\n",
       "      <td>2014-10-10</td>\n",
       "      <td>2372</td>\n",
       "      <td>8.2</td>\n",
       "      <td>2014</td>\n",
       "      <td>3039600</td>\n",
       "      <td>12888912</td>\n",
       "      <td>9849312</td>\n",
       "      <td>8.023797</td>\n",
       "    </tr>\n",
       "    <tr>\n",
       "      <th>...</th>\n",
       "      <td>...</td>\n",
       "      <td>...</td>\n",
       "      <td>...</td>\n",
       "      <td>...</td>\n",
       "      <td>...</td>\n",
       "      <td>...</td>\n",
       "      <td>...</td>\n",
       "      <td>...</td>\n",
       "      <td>...</td>\n",
       "      <td>...</td>\n",
       "      <td>...</td>\n",
       "      <td>...</td>\n",
       "      <td>...</td>\n",
       "      <td>...</td>\n",
       "      <td>...</td>\n",
       "    </tr>\n",
       "    <tr>\n",
       "      <th>5688</th>\n",
       "      <td>0.422934</td>\n",
       "      <td>Sharknado</td>\n",
       "      <td>Ian Ziering|Tara Reid|Cassie Scerbo|John Heard...</td>\n",
       "      <td>Anthony C. Ferrante</td>\n",
       "      <td>86.0</td>\n",
       "      <td>TV Movie|Horror</td>\n",
       "      <td>The Asylum|Syfy|Southward Films</td>\n",
       "      <td>2013-07-11</td>\n",
       "      <td>312</td>\n",
       "      <td>3.9</td>\n",
       "      <td>2013</td>\n",
       "      <td>936033</td>\n",
       "      <td>115100887</td>\n",
       "      <td>114164854</td>\n",
       "      <td>4.720353</td>\n",
       "    </tr>\n",
       "    <tr>\n",
       "      <th>5235</th>\n",
       "      <td>2.604799</td>\n",
       "      <td>Batman &amp; Robin</td>\n",
       "      <td>Arnold Schwarzenegger|George Clooney|Chris O'D...</td>\n",
       "      <td>Joel Schumacher</td>\n",
       "      <td>125.0</td>\n",
       "      <td>Action|Crime|Fantasy|Science Fiction</td>\n",
       "      <td>PolyGram Filmed Entertainment|Warner Bros.</td>\n",
       "      <td>1997-06-20</td>\n",
       "      <td>828</td>\n",
       "      <td>4.4</td>\n",
       "      <td>1997</td>\n",
       "      <td>169807540</td>\n",
       "      <td>323594923</td>\n",
       "      <td>153787383</td>\n",
       "      <td>4.711339</td>\n",
       "    </tr>\n",
       "    <tr>\n",
       "      <th>61</th>\n",
       "      <td>2.487042</td>\n",
       "      <td>Fantastic Four</td>\n",
       "      <td>Miles Teller|Kate Mara|Michael B. Jordan|Jamie...</td>\n",
       "      <td>Josh Trank</td>\n",
       "      <td>100.0</td>\n",
       "      <td>Action|Adventure|Science Fiction</td>\n",
       "      <td>Twentieth Century Fox Film Corporation|Marv Fi...</td>\n",
       "      <td>2015-08-05</td>\n",
       "      <td>1565</td>\n",
       "      <td>4.4</td>\n",
       "      <td>2015</td>\n",
       "      <td>110399952</td>\n",
       "      <td>154539320</td>\n",
       "      <td>44139368</td>\n",
       "      <td>4.581629</td>\n",
       "    </tr>\n",
       "    <tr>\n",
       "      <th>1696</th>\n",
       "      <td>0.322320</td>\n",
       "      <td>Dragonball Evolution</td>\n",
       "      <td>Justin Chatwin|Joon Park|Jamie Chung|Emmy Ross...</td>\n",
       "      <td>James Wong</td>\n",
       "      <td>85.0</td>\n",
       "      <td>Action|Adventure|Fantasy|Science Fiction|Thriller</td>\n",
       "      <td>Ingenious Film Partners|Twentieth Century Fox ...</td>\n",
       "      <td>2009-04-01</td>\n",
       "      <td>261</td>\n",
       "      <td>3.1</td>\n",
       "      <td>2009</td>\n",
       "      <td>101640043</td>\n",
       "      <td>115100887</td>\n",
       "      <td>13460844</td>\n",
       "      <td>4.361295</td>\n",
       "    </tr>\n",
       "    <tr>\n",
       "      <th>102</th>\n",
       "      <td>1.651078</td>\n",
       "      <td>The Boy Next Door</td>\n",
       "      <td>Jennifer Lopez|Ryan Guzman|Ian Nelson|John Cor...</td>\n",
       "      <td>Rob Cohen</td>\n",
       "      <td>91.0</td>\n",
       "      <td>Thriller</td>\n",
       "      <td>Universal Pictures|Nuyorican Productions|Blumh...</td>\n",
       "      <td>2015-01-23</td>\n",
       "      <td>810</td>\n",
       "      <td>3.9</td>\n",
       "      <td>2015</td>\n",
       "      <td>3679998</td>\n",
       "      <td>46150034</td>\n",
       "      <td>42470036</td>\n",
       "      <td>4.317458</td>\n",
       "    </tr>\n",
       "  </tbody>\n",
       "</table>\n",
       "<p>2178 rows × 15 columns</p>\n",
       "</div>"
      ],
      "text/plain": [
       "      popularity            original_title  \\\n",
       "4177    7.192039  The Shawshank Redemption   \n",
       "7268    5.738034             The Godfather   \n",
       "2874    8.466668           The Dark Knight   \n",
       "2408    8.947905                Fight Club   \n",
       "650     4.780419                  Whiplash   \n",
       "...          ...                       ...   \n",
       "5688    0.422934                 Sharknado   \n",
       "5235    2.604799            Batman & Robin   \n",
       "61      2.487042            Fantastic Four   \n",
       "1696    0.322320      Dragonball Evolution   \n",
       "102     1.651078         The Boy Next Door   \n",
       "\n",
       "                                                   cast              director  \\\n",
       "4177  Tim Robbins|Morgan Freeman|Bob Gunton|William ...        Frank Darabont   \n",
       "7268  Marlon Brando|Al Pacino|James Caan|Richard S. ...  Francis Ford Coppola   \n",
       "2874  Christian Bale|Michael Caine|Heath Ledger|Aaro...     Christopher Nolan   \n",
       "2408  Edward Norton|Brad Pitt|Meat Loaf|Jared Leto|H...         David Fincher   \n",
       "650   Miles Teller|J.K. Simmons|Melissa Benoist|Aust...       Damien Chazelle   \n",
       "...                                                 ...                   ...   \n",
       "5688  Ian Ziering|Tara Reid|Cassie Scerbo|John Heard...   Anthony C. Ferrante   \n",
       "5235  Arnold Schwarzenegger|George Clooney|Chris O'D...       Joel Schumacher   \n",
       "61    Miles Teller|Kate Mara|Michael B. Jordan|Jamie...            Josh Trank   \n",
       "1696  Justin Chatwin|Joon Park|Jamie Chung|Emmy Ross...            James Wong   \n",
       "102   Jennifer Lopez|Ryan Guzman|Ian Nelson|John Cor...             Rob Cohen   \n",
       "\n",
       "      runtime                                             genres  \\\n",
       "4177    142.0                                        Drama|Crime   \n",
       "7268    175.0                                        Drama|Crime   \n",
       "2874    152.0                        Drama|Action|Crime|Thriller   \n",
       "2408    139.0                                              Drama   \n",
       "650     105.0                                        Drama|Music   \n",
       "...       ...                                                ...   \n",
       "5688     86.0                                    TV Movie|Horror   \n",
       "5235    125.0               Action|Crime|Fantasy|Science Fiction   \n",
       "61      100.0                   Action|Adventure|Science Fiction   \n",
       "1696     85.0  Action|Adventure|Fantasy|Science Fiction|Thriller   \n",
       "102      91.0                                           Thriller   \n",
       "\n",
       "                                   production_companies release_date  \\\n",
       "4177                          Castle Rock Entertainment   1994-09-10   \n",
       "7268              Paramount Pictures|Alfran Productions   1972-03-15   \n",
       "2874  DC Comics|Legendary Pictures|Warner Bros.|Syncopy   2008-07-16   \n",
       "2408  Regency Enterprises|Fox 2000 Pictures|Taurus F...   1999-10-14   \n",
       "650   Bold Films|Blumhouse Productions|Right of Way ...   2014-10-10   \n",
       "...                                                 ...          ...   \n",
       "5688                    The Asylum|Syfy|Southward Films   2013-07-11   \n",
       "5235         PolyGram Filmed Entertainment|Warner Bros.   1997-06-20   \n",
       "61    Twentieth Century Fox Film Corporation|Marv Fi...   2015-08-05   \n",
       "1696  Ingenious Film Partners|Twentieth Century Fox ...   2009-04-01   \n",
       "102   Universal Pictures|Nuyorican Productions|Blumh...   2015-01-23   \n",
       "\n",
       "      vote_count  vote_average  release_year  budget_adj  revenue_adj  \\\n",
       "4177        5754           8.4          1994    36777789     41693462   \n",
       "7268        3970           8.3          1972    31287365   1277913732   \n",
       "2874        8432           8.1          2008   187365527   1014733032   \n",
       "2408        5923           8.1          1999    82470329    132022892   \n",
       "650         2372           8.2          2014     3039600     12888912   \n",
       "...          ...           ...           ...         ...          ...   \n",
       "5688         312           3.9          2013      936033    115100887   \n",
       "5235         828           4.4          1997   169807540    323594923   \n",
       "61          1565           4.4          2015   110399952    154539320   \n",
       "1696         261           3.1          2009   101640043    115100887   \n",
       "102          810           3.9          2015     3679998     46150034   \n",
       "\n",
       "          profit     score  \n",
       "4177     4915673  8.316969  \n",
       "7268  1246626367  8.186369  \n",
       "2874   827367505  8.049803  \n",
       "2408    49552563  8.029248  \n",
       "650      9849312  8.023797  \n",
       "...          ...       ...  \n",
       "5688   114164854  4.720353  \n",
       "5235   153787383  4.711339  \n",
       "61      44139368  4.581629  \n",
       "1696    13460844  4.361295  \n",
       "102     42470036  4.317458  \n",
       "\n",
       "[2178 rows x 15 columns]"
      ]
     },
     "execution_count": 29,
     "metadata": {},
     "output_type": "execute_result"
    }
   ],
   "source": [
    "#compute the values of c and m to filter the movies\n",
    "c=df['vote_average'].mean()\n",
    "m=df['vote_count'].quantile(0.8)\n",
    "\n",
    "# only consider movies that have higher than m vote_count . save this in a new data frame\"score_df\"  \n",
    "score_df=df.copy().loc[df.vote_count >= m]\n",
    "\n",
    "#calculate score using the IMDB formula\n",
    "score_df['score']=score_df.apply(lambda x:(x['vote_count']/(x['vote_count']+m)* x['vote_average'])\n",
    "                                + (m/(m+x['vote_count'])*c),axis=1)\n",
    "\n",
    "# sort movies in descending order of their scores\n",
    "score_df.sort_values(by='score',ascending=False)"
   ]
  },
  {
   "cell_type": "code",
   "execution_count": 112,
   "metadata": {},
   "outputs": [
    {
     "data": {
      "text/plain": [
       "array([[<matplotlib.axes._subplots.AxesSubplot object at 0x1a317a5710>,\n",
       "        <matplotlib.axes._subplots.AxesSubplot object at 0x1a2bfcd7d0>,\n",
       "        <matplotlib.axes._subplots.AxesSubplot object at 0x1a3171a110>],\n",
       "       [<matplotlib.axes._subplots.AxesSubplot object at 0x1a318a1810>,\n",
       "        <matplotlib.axes._subplots.AxesSubplot object at 0x1a2fab9850>,\n",
       "        <matplotlib.axes._subplots.AxesSubplot object at 0x1a318c0e90>],\n",
       "       [<matplotlib.axes._subplots.AxesSubplot object at 0x1a318ad090>,\n",
       "        <matplotlib.axes._subplots.AxesSubplot object at 0x1a30c80990>,\n",
       "        <matplotlib.axes._subplots.AxesSubplot object at 0x1a318b1710>]],\n",
       "      dtype=object)"
      ]
     },
     "execution_count": 112,
     "metadata": {},
     "output_type": "execute_result"
    },
    {
     "data": {
      "image/png": "[encoded data removed]",
      "text/plain": [
       "<Figure size 432x288 with 9 Axes>"
      ]
     },
     "metadata": {},
     "output_type": "display_data"
    }
   ],
   "source": [
    "score_df.hist()"
   ]
  },
  {
   "cell_type": "markdown",
   "metadata": {},
   "source": [
    "> lets check the MAXIMUM and the MINIMUM"
   ]
  },
  {
   "cell_type": "code",
   "execution_count": 144,
   "metadata": {},
   "outputs": [
    {
     "data": {
      "text/html": [
       "<div>\n",
       "<style scoped>\n",
       "    .dataframe tbody tr th:only-of-type {\n",
       "        vertical-align: middle;\n",
       "    }\n",
       "\n",
       "    .dataframe tbody tr th {\n",
       "        vertical-align: top;\n",
       "    }\n",
       "\n",
       "    .dataframe thead th {\n",
       "        text-align: right;\n",
       "    }\n",
       "</style>\n",
       "<table border=\"1\" class=\"dataframe\">\n",
       "  <thead>\n",
       "    <tr style=\"text-align: right;\">\n",
       "      <th></th>\n",
       "      <th>4177</th>\n",
       "    </tr>\n",
       "  </thead>\n",
       "  <tbody>\n",
       "    <tr>\n",
       "      <th>popularity</th>\n",
       "      <td>7.19204</td>\n",
       "    </tr>\n",
       "    <tr>\n",
       "      <th>original_title</th>\n",
       "      <td>The Shawshank Redemption</td>\n",
       "    </tr>\n",
       "    <tr>\n",
       "      <th>cast</th>\n",
       "      <td>Tim Robbins|Morgan Freeman|Bob Gunton|William ...</td>\n",
       "    </tr>\n",
       "    <tr>\n",
       "      <th>director</th>\n",
       "      <td>Frank Darabont</td>\n",
       "    </tr>\n",
       "    <tr>\n",
       "      <th>runtime</th>\n",
       "      <td>142</td>\n",
       "    </tr>\n",
       "    <tr>\n",
       "      <th>genres</th>\n",
       "      <td>Drama|Crime</td>\n",
       "    </tr>\n",
       "    <tr>\n",
       "      <th>production_companies</th>\n",
       "      <td>Castle Rock Entertainment</td>\n",
       "    </tr>\n",
       "    <tr>\n",
       "      <th>release_date</th>\n",
       "      <td>1994-09-10</td>\n",
       "    </tr>\n",
       "    <tr>\n",
       "      <th>vote_count</th>\n",
       "      <td>5754</td>\n",
       "    </tr>\n",
       "    <tr>\n",
       "      <th>vote_average</th>\n",
       "      <td>8.4</td>\n",
       "    </tr>\n",
       "    <tr>\n",
       "      <th>release_year</th>\n",
       "      <td>1994</td>\n",
       "    </tr>\n",
       "    <tr>\n",
       "      <th>budget_adj</th>\n",
       "      <td>36777789</td>\n",
       "    </tr>\n",
       "    <tr>\n",
       "      <th>revenue_adj</th>\n",
       "      <td>41693462</td>\n",
       "    </tr>\n",
       "    <tr>\n",
       "      <th>profit</th>\n",
       "      <td>4915673</td>\n",
       "    </tr>\n",
       "    <tr>\n",
       "      <th>score</th>\n",
       "      <td>8.31697</td>\n",
       "    </tr>\n",
       "  </tbody>\n",
       "</table>\n",
       "</div>"
      ],
      "text/plain": [
       "                                                                   4177\n",
       "popularity                                                      7.19204\n",
       "original_title                                 The Shawshank Redemption\n",
       "cast                  Tim Robbins|Morgan Freeman|Bob Gunton|William ...\n",
       "director                                                 Frank Darabont\n",
       "runtime                                                             142\n",
       "genres                                                      Drama|Crime\n",
       "production_companies                          Castle Rock Entertainment\n",
       "release_date                                                 1994-09-10\n",
       "vote_count                                                         5754\n",
       "vote_average                                                        8.4\n",
       "release_year                                                       1994\n",
       "budget_adj                                                     36777789\n",
       "revenue_adj                                                    41693462\n",
       "profit                                                          4915673\n",
       "score                                                           8.31697"
      ]
     },
     "metadata": {},
     "output_type": "display_data"
    },
    {
     "data": {
      "text/html": [
       "<div>\n",
       "<style scoped>\n",
       "    .dataframe tbody tr th:only-of-type {\n",
       "        vertical-align: middle;\n",
       "    }\n",
       "\n",
       "    .dataframe tbody tr th {\n",
       "        vertical-align: top;\n",
       "    }\n",
       "\n",
       "    .dataframe thead th {\n",
       "        text-align: right;\n",
       "    }\n",
       "</style>\n",
       "<table border=\"1\" class=\"dataframe\">\n",
       "  <thead>\n",
       "    <tr style=\"text-align: right;\">\n",
       "      <th></th>\n",
       "      <th>102</th>\n",
       "    </tr>\n",
       "  </thead>\n",
       "  <tbody>\n",
       "    <tr>\n",
       "      <th>popularity</th>\n",
       "      <td>1.65108</td>\n",
       "    </tr>\n",
       "    <tr>\n",
       "      <th>original_title</th>\n",
       "      <td>The Boy Next Door</td>\n",
       "    </tr>\n",
       "    <tr>\n",
       "      <th>cast</th>\n",
       "      <td>Jennifer Lopez|Ryan Guzman|Ian Nelson|John Cor...</td>\n",
       "    </tr>\n",
       "    <tr>\n",
       "      <th>director</th>\n",
       "      <td>Rob Cohen</td>\n",
       "    </tr>\n",
       "    <tr>\n",
       "      <th>runtime</th>\n",
       "      <td>91</td>\n",
       "    </tr>\n",
       "    <tr>\n",
       "      <th>genres</th>\n",
       "      <td>Thriller</td>\n",
       "    </tr>\n",
       "    <tr>\n",
       "      <th>production_companies</th>\n",
       "      <td>Universal Pictures|Nuyorican Productions|Blumh...</td>\n",
       "    </tr>\n",
       "    <tr>\n",
       "      <th>release_date</th>\n",
       "      <td>2015-01-23</td>\n",
       "    </tr>\n",
       "    <tr>\n",
       "      <th>vote_count</th>\n",
       "      <td>810</td>\n",
       "    </tr>\n",
       "    <tr>\n",
       "      <th>vote_average</th>\n",
       "      <td>3.9</td>\n",
       "    </tr>\n",
       "    <tr>\n",
       "      <th>release_year</th>\n",
       "      <td>2015</td>\n",
       "    </tr>\n",
       "    <tr>\n",
       "      <th>budget_adj</th>\n",
       "      <td>3679998</td>\n",
       "    </tr>\n",
       "    <tr>\n",
       "      <th>revenue_adj</th>\n",
       "      <td>46150034</td>\n",
       "    </tr>\n",
       "    <tr>\n",
       "      <th>profit</th>\n",
       "      <td>42470036</td>\n",
       "    </tr>\n",
       "    <tr>\n",
       "      <th>score</th>\n",
       "      <td>4.31746</td>\n",
       "    </tr>\n",
       "  </tbody>\n",
       "</table>\n",
       "</div>"
      ],
      "text/plain": [
       "                                                                    102\n",
       "popularity                                                      1.65108\n",
       "original_title                                        The Boy Next Door\n",
       "cast                  Jennifer Lopez|Ryan Guzman|Ian Nelson|John Cor...\n",
       "director                                                      Rob Cohen\n",
       "runtime                                                              91\n",
       "genres                                                         Thriller\n",
       "production_companies  Universal Pictures|Nuyorican Productions|Blumh...\n",
       "release_date                                                 2015-01-23\n",
       "vote_count                                                          810\n",
       "vote_average                                                        3.9\n",
       "release_year                                                       2015\n",
       "budget_adj                                                      3679998\n",
       "revenue_adj                                                    46150034\n",
       "profit                                                         42470036\n",
       "score                                                           4.31746"
      ]
     },
     "metadata": {},
     "output_type": "display_data"
    },
    {
     "data": {
      "text/plain": [
       "4177    The Shawshank Redemption\n",
       "Name: original_title, dtype: object"
      ]
     },
     "execution_count": 144,
     "metadata": {},
     "output_type": "execute_result"
    }
   ],
   "source": [
    "# Get the id for MAXIMUM and the MINIMUM score\n",
    "highest_score=score_df['score'].idxmax()\n",
    "lowest_score=score_df['score'].idxmin()\n",
    "\n",
    "# Get the details\n",
    "highest_score_details = pd.DataFrame(score_df.loc[highest_score])\n",
    "lowest_score_details = pd.DataFrame(score_df.loc[lowest_score])\n",
    "# show and compaire \n",
    "display(highest_score_details)\n",
    "display(lowest_score_details)"
   ]
  },
  {
   "cell_type": "markdown",
   "metadata": {},
   "source": [
    ">The results surprised me !\\\n",
    "the highest now not 9.2 as the previous describtion , now its 8.4 vote_average and 8.3 score: (* The Shawshank Redemption *)\n",
    ">\n",
    ">the lowest 3.9 vote_average and 4.3 score : (*The Boy Next Door*)\n",
    "- Its clear the score attached with popularity\n",
    "- The profits not much different only around 700 thousand dollers "
   ]
  },
  {
   "cell_type": "code",
   "execution_count": 129,
   "metadata": {},
   "outputs": [
    {
     "data": {
      "text/plain": [
       "6.32932172184161"
      ]
     },
     "execution_count": 129,
     "metadata": {},
     "output_type": "execute_result"
    }
   ],
   "source": [
    "#The value that we will divide data Depending on it\n",
    "\n",
    "score_df.score.mean()"
   ]
  },
  {
   "cell_type": "code",
   "execution_count": 32,
   "metadata": {},
   "outputs": [
    {
     "data": {
      "text/html": [
       "<div>\n",
       "<style scoped>\n",
       "    .dataframe tbody tr th:only-of-type {\n",
       "        vertical-align: middle;\n",
       "    }\n",
       "\n",
       "    .dataframe tbody tr th {\n",
       "        vertical-align: top;\n",
       "    }\n",
       "\n",
       "    .dataframe thead th {\n",
       "        text-align: right;\n",
       "    }\n",
       "</style>\n",
       "<table border=\"1\" class=\"dataframe\">\n",
       "  <thead>\n",
       "    <tr style=\"text-align: right;\">\n",
       "      <th></th>\n",
       "      <th>popularity</th>\n",
       "      <th>original_title</th>\n",
       "      <th>cast</th>\n",
       "      <th>director</th>\n",
       "      <th>runtime</th>\n",
       "      <th>genres</th>\n",
       "      <th>production_companies</th>\n",
       "      <th>release_date</th>\n",
       "      <th>vote_count</th>\n",
       "      <th>vote_average</th>\n",
       "      <th>release_year</th>\n",
       "      <th>budget_adj</th>\n",
       "      <th>revenue_adj</th>\n",
       "      <th>profit</th>\n",
       "      <th>score</th>\n",
       "    </tr>\n",
       "  </thead>\n",
       "  <tbody>\n",
       "    <tr>\n",
       "      <th>4177</th>\n",
       "      <td>7.192039</td>\n",
       "      <td>The Shawshank Redemption</td>\n",
       "      <td>Tim Robbins|Morgan Freeman|Bob Gunton|William ...</td>\n",
       "      <td>Frank Darabont</td>\n",
       "      <td>142.0</td>\n",
       "      <td>Drama|Crime</td>\n",
       "      <td>Castle Rock Entertainment</td>\n",
       "      <td>1994-09-10</td>\n",
       "      <td>5754</td>\n",
       "      <td>8.4</td>\n",
       "      <td>1994</td>\n",
       "      <td>36777789</td>\n",
       "      <td>41693462</td>\n",
       "      <td>4915673</td>\n",
       "      <td>8.316969</td>\n",
       "    </tr>\n",
       "    <tr>\n",
       "      <th>7268</th>\n",
       "      <td>5.738034</td>\n",
       "      <td>The Godfather</td>\n",
       "      <td>Marlon Brando|Al Pacino|James Caan|Richard S. ...</td>\n",
       "      <td>Francis Ford Coppola</td>\n",
       "      <td>175.0</td>\n",
       "      <td>Drama|Crime</td>\n",
       "      <td>Paramount Pictures|Alfran Productions</td>\n",
       "      <td>1972-03-15</td>\n",
       "      <td>3970</td>\n",
       "      <td>8.3</td>\n",
       "      <td>1972</td>\n",
       "      <td>31287365</td>\n",
       "      <td>1277913732</td>\n",
       "      <td>1246626367</td>\n",
       "      <td>8.186369</td>\n",
       "    </tr>\n",
       "    <tr>\n",
       "      <th>2874</th>\n",
       "      <td>8.466668</td>\n",
       "      <td>The Dark Knight</td>\n",
       "      <td>Christian Bale|Michael Caine|Heath Ledger|Aaro...</td>\n",
       "      <td>Christopher Nolan</td>\n",
       "      <td>152.0</td>\n",
       "      <td>Drama|Action|Crime|Thriller</td>\n",
       "      <td>DC Comics|Legendary Pictures|Warner Bros.|Syncopy</td>\n",
       "      <td>2008-07-16</td>\n",
       "      <td>8432</td>\n",
       "      <td>8.1</td>\n",
       "      <td>2008</td>\n",
       "      <td>187365527</td>\n",
       "      <td>1014733032</td>\n",
       "      <td>827367505</td>\n",
       "      <td>8.049803</td>\n",
       "    </tr>\n",
       "    <tr>\n",
       "      <th>2408</th>\n",
       "      <td>8.947905</td>\n",
       "      <td>Fight Club</td>\n",
       "      <td>Edward Norton|Brad Pitt|Meat Loaf|Jared Leto|H...</td>\n",
       "      <td>David Fincher</td>\n",
       "      <td>139.0</td>\n",
       "      <td>Drama</td>\n",
       "      <td>Regency Enterprises|Fox 2000 Pictures|Taurus F...</td>\n",
       "      <td>1999-10-14</td>\n",
       "      <td>5923</td>\n",
       "      <td>8.1</td>\n",
       "      <td>1999</td>\n",
       "      <td>82470329</td>\n",
       "      <td>132022892</td>\n",
       "      <td>49552563</td>\n",
       "      <td>8.029248</td>\n",
       "    </tr>\n",
       "    <tr>\n",
       "      <th>650</th>\n",
       "      <td>4.780419</td>\n",
       "      <td>Whiplash</td>\n",
       "      <td>Miles Teller|J.K. Simmons|Melissa Benoist|Aust...</td>\n",
       "      <td>Damien Chazelle</td>\n",
       "      <td>105.0</td>\n",
       "      <td>Drama|Music</td>\n",
       "      <td>Bold Films|Blumhouse Productions|Right of Way ...</td>\n",
       "      <td>2014-10-10</td>\n",
       "      <td>2372</td>\n",
       "      <td>8.2</td>\n",
       "      <td>2014</td>\n",
       "      <td>3039600</td>\n",
       "      <td>12888912</td>\n",
       "      <td>9849312</td>\n",
       "      <td>8.023797</td>\n",
       "    </tr>\n",
       "    <tr>\n",
       "      <th>...</th>\n",
       "      <td>...</td>\n",
       "      <td>...</td>\n",
       "      <td>...</td>\n",
       "      <td>...</td>\n",
       "      <td>...</td>\n",
       "      <td>...</td>\n",
       "      <td>...</td>\n",
       "      <td>...</td>\n",
       "      <td>...</td>\n",
       "      <td>...</td>\n",
       "      <td>...</td>\n",
       "      <td>...</td>\n",
       "      <td>...</td>\n",
       "      <td>...</td>\n",
       "      <td>...</td>\n",
       "    </tr>\n",
       "    <tr>\n",
       "      <th>10486</th>\n",
       "      <td>0.971594</td>\n",
       "      <td>Star Trek IV: The Voyage Home</td>\n",
       "      <td>William Shatner|Leonard Nimoy|DeForest Kelley|...</td>\n",
       "      <td>Leonard Nimoy</td>\n",
       "      <td>119.0</td>\n",
       "      <td>Science Fiction|Adventure</td>\n",
       "      <td>Paramount Pictures</td>\n",
       "      <td>1986-11-25</td>\n",
       "      <td>275</td>\n",
       "      <td>6.6</td>\n",
       "      <td>1986</td>\n",
       "      <td>47745753</td>\n",
       "      <td>264591052</td>\n",
       "      <td>216845299</td>\n",
       "      <td>6.333825</td>\n",
       "    </tr>\n",
       "    <tr>\n",
       "      <th>3435</th>\n",
       "      <td>1.241191</td>\n",
       "      <td>The Adjustment Bureau</td>\n",
       "      <td>Matt Damon|Emily Blunt|John Slattery|Anthony M...</td>\n",
       "      <td>George Nolfi</td>\n",
       "      <td>106.0</td>\n",
       "      <td>Thriller|Romance|Fantasy</td>\n",
       "      <td>Universal Pictures|Media Rights Capital|Gambit...</td>\n",
       "      <td>2011-03-03</td>\n",
       "      <td>1097</td>\n",
       "      <td>6.4</td>\n",
       "      <td>2011</td>\n",
       "      <td>48663781</td>\n",
       "      <td>123956325</td>\n",
       "      <td>75292544</td>\n",
       "      <td>6.333361</td>\n",
       "    </tr>\n",
       "    <tr>\n",
       "      <th>744</th>\n",
       "      <td>1.220073</td>\n",
       "      <td>'71</td>\n",
       "      <td>Jack O'Connell|Paul Anderson|Sean Harris|Sam R...</td>\n",
       "      <td>Yann Demange</td>\n",
       "      <td>99.0</td>\n",
       "      <td>Thriller|Action|Drama|War</td>\n",
       "      <td>Screen Yorkshire|British Film Institute (BFI)|...</td>\n",
       "      <td>2014-10-10</td>\n",
       "      <td>274</td>\n",
       "      <td>6.6</td>\n",
       "      <td>2014</td>\n",
       "      <td>36889069</td>\n",
       "      <td>1497553</td>\n",
       "      <td>-35391516</td>\n",
       "      <td>6.333269</td>\n",
       "    </tr>\n",
       "    <tr>\n",
       "      <th>3028</th>\n",
       "      <td>0.579470</td>\n",
       "      <td>Revolutionary Road</td>\n",
       "      <td>Leonardo DiCaprio|Kate Winslet|Michael Shannon...</td>\n",
       "      <td>Sam Mendes</td>\n",
       "      <td>119.0</td>\n",
       "      <td>Drama|Romance</td>\n",
       "      <td>DreamWorks SKG|Scott Rudin Productions|BBC Fil...</td>\n",
       "      <td>2008-12-19</td>\n",
       "      <td>430</td>\n",
       "      <td>6.5</td>\n",
       "      <td>2008</td>\n",
       "      <td>35447532</td>\n",
       "      <td>76187576</td>\n",
       "      <td>40740044</td>\n",
       "      <td>6.331076</td>\n",
       "    </tr>\n",
       "    <tr>\n",
       "      <th>6197</th>\n",
       "      <td>2.623346</td>\n",
       "      <td>The Island</td>\n",
       "      <td>Ewan McGregor|Scarlett Johansson|Djimon Hounso...</td>\n",
       "      <td>Michael Bay</td>\n",
       "      <td>136.0</td>\n",
       "      <td>Action|Thriller|Science Fiction|Adventure</td>\n",
       "      <td>DreamWorks SKG|Warner Bros.|Parkes/MacDonald P...</td>\n",
       "      <td>2005-07-20</td>\n",
       "      <td>1027</td>\n",
       "      <td>6.4</td>\n",
       "      <td>2005</td>\n",
       "      <td>140686974</td>\n",
       "      <td>181943054</td>\n",
       "      <td>41256080</td>\n",
       "      <td>6.329571</td>\n",
       "    </tr>\n",
       "  </tbody>\n",
       "</table>\n",
       "<p>1028 rows × 15 columns</p>\n",
       "</div>"
      ],
      "text/plain": [
       "       popularity                 original_title  \\\n",
       "4177     7.192039       The Shawshank Redemption   \n",
       "7268     5.738034                  The Godfather   \n",
       "2874     8.466668                The Dark Knight   \n",
       "2408     8.947905                     Fight Club   \n",
       "650      4.780419                       Whiplash   \n",
       "...           ...                            ...   \n",
       "10486    0.971594  Star Trek IV: The Voyage Home   \n",
       "3435     1.241191          The Adjustment Bureau   \n",
       "744      1.220073                            '71   \n",
       "3028     0.579470             Revolutionary Road   \n",
       "6197     2.623346                     The Island   \n",
       "\n",
       "                                                    cast  \\\n",
       "4177   Tim Robbins|Morgan Freeman|Bob Gunton|William ...   \n",
       "7268   Marlon Brando|Al Pacino|James Caan|Richard S. ...   \n",
       "2874   Christian Bale|Michael Caine|Heath Ledger|Aaro...   \n",
       "2408   Edward Norton|Brad Pitt|Meat Loaf|Jared Leto|H...   \n",
       "650    Miles Teller|J.K. Simmons|Melissa Benoist|Aust...   \n",
       "...                                                  ...   \n",
       "10486  William Shatner|Leonard Nimoy|DeForest Kelley|...   \n",
       "3435   Matt Damon|Emily Blunt|John Slattery|Anthony M...   \n",
       "744    Jack O'Connell|Paul Anderson|Sean Harris|Sam R...   \n",
       "3028   Leonardo DiCaprio|Kate Winslet|Michael Shannon...   \n",
       "6197   Ewan McGregor|Scarlett Johansson|Djimon Hounso...   \n",
       "\n",
       "                   director  runtime  \\\n",
       "4177         Frank Darabont    142.0   \n",
       "7268   Francis Ford Coppola    175.0   \n",
       "2874      Christopher Nolan    152.0   \n",
       "2408          David Fincher    139.0   \n",
       "650         Damien Chazelle    105.0   \n",
       "...                     ...      ...   \n",
       "10486         Leonard Nimoy    119.0   \n",
       "3435           George Nolfi    106.0   \n",
       "744            Yann Demange     99.0   \n",
       "3028             Sam Mendes    119.0   \n",
       "6197            Michael Bay    136.0   \n",
       "\n",
       "                                          genres  \\\n",
       "4177                                 Drama|Crime   \n",
       "7268                                 Drama|Crime   \n",
       "2874                 Drama|Action|Crime|Thriller   \n",
       "2408                                       Drama   \n",
       "650                                  Drama|Music   \n",
       "...                                          ...   \n",
       "10486                  Science Fiction|Adventure   \n",
       "3435                    Thriller|Romance|Fantasy   \n",
       "744                    Thriller|Action|Drama|War   \n",
       "3028                               Drama|Romance   \n",
       "6197   Action|Thriller|Science Fiction|Adventure   \n",
       "\n",
       "                                    production_companies release_date  \\\n",
       "4177                           Castle Rock Entertainment   1994-09-10   \n",
       "7268               Paramount Pictures|Alfran Productions   1972-03-15   \n",
       "2874   DC Comics|Legendary Pictures|Warner Bros.|Syncopy   2008-07-16   \n",
       "2408   Regency Enterprises|Fox 2000 Pictures|Taurus F...   1999-10-14   \n",
       "650    Bold Films|Blumhouse Productions|Right of Way ...   2014-10-10   \n",
       "...                                                  ...          ...   \n",
       "10486                                 Paramount Pictures   1986-11-25   \n",
       "3435   Universal Pictures|Media Rights Capital|Gambit...   2011-03-03   \n",
       "744    Screen Yorkshire|British Film Institute (BFI)|...   2014-10-10   \n",
       "3028   DreamWorks SKG|Scott Rudin Productions|BBC Fil...   2008-12-19   \n",
       "6197   DreamWorks SKG|Warner Bros.|Parkes/MacDonald P...   2005-07-20   \n",
       "\n",
       "       vote_count  vote_average  release_year  budget_adj  revenue_adj  \\\n",
       "4177         5754           8.4          1994    36777789     41693462   \n",
       "7268         3970           8.3          1972    31287365   1277913732   \n",
       "2874         8432           8.1          2008   187365527   1014733032   \n",
       "2408         5923           8.1          1999    82470329    132022892   \n",
       "650          2372           8.2          2014     3039600     12888912   \n",
       "...           ...           ...           ...         ...          ...   \n",
       "10486         275           6.6          1986    47745753    264591052   \n",
       "3435         1097           6.4          2011    48663781    123956325   \n",
       "744           274           6.6          2014    36889069      1497553   \n",
       "3028          430           6.5          2008    35447532     76187576   \n",
       "6197         1027           6.4          2005   140686974    181943054   \n",
       "\n",
       "           profit     score  \n",
       "4177      4915673  8.316969  \n",
       "7268   1246626367  8.186369  \n",
       "2874    827367505  8.049803  \n",
       "2408     49552563  8.029248  \n",
       "650       9849312  8.023797  \n",
       "...           ...       ...  \n",
       "10486   216845299  6.333825  \n",
       "3435     75292544  6.333361  \n",
       "744     -35391516  6.333269  \n",
       "3028     40740044  6.331076  \n",
       "6197     41256080  6.329571  \n",
       "\n",
       "[1028 rows x 15 columns]"
      ]
     },
     "execution_count": 32,
     "metadata": {},
     "output_type": "execute_result"
    }
   ],
   "source": [
    "# all the movies with score greater than the mean (6.3)\n",
    "High_score=score_df.query('score > score.mean()')\n",
    "High_score.sort_values(by='score',ascending=False)\n"
   ]
  },
  {
   "cell_type": "markdown",
   "metadata": {},
   "source": [
    "> **High_score**  : new dataframe by filter to movies that made score  more than the mean value \\\n",
    "so now we can make or analysis on this specific data"
   ]
  },
  {
   "cell_type": "code",
   "execution_count": 49,
   "metadata": {},
   "outputs": [
    {
     "data": {
      "text/html": [
       "<div>\n",
       "<style scoped>\n",
       "    .dataframe tbody tr th:only-of-type {\n",
       "        vertical-align: middle;\n",
       "    }\n",
       "\n",
       "    .dataframe tbody tr th {\n",
       "        vertical-align: top;\n",
       "    }\n",
       "\n",
       "    .dataframe thead th {\n",
       "        text-align: right;\n",
       "    }\n",
       "</style>\n",
       "<table border=\"1\" class=\"dataframe\">\n",
       "  <thead>\n",
       "    <tr style=\"text-align: right;\">\n",
       "      <th></th>\n",
       "      <th>popularity</th>\n",
       "      <th>runtime</th>\n",
       "      <th>vote_count</th>\n",
       "      <th>vote_average</th>\n",
       "      <th>release_year</th>\n",
       "      <th>budget_adj</th>\n",
       "      <th>revenue_adj</th>\n",
       "      <th>profit</th>\n",
       "      <th>score</th>\n",
       "    </tr>\n",
       "  </thead>\n",
       "  <tbody>\n",
       "    <tr>\n",
       "      <th>count</th>\n",
       "      <td>1028.000000</td>\n",
       "      <td>1028.000000</td>\n",
       "      <td>1028.000000</td>\n",
       "      <td>1028.000000</td>\n",
       "      <td>1028.000000</td>\n",
       "      <td>1.028000e+03</td>\n",
       "      <td>1.028000e+03</td>\n",
       "      <td>1.028000e+03</td>\n",
       "      <td>1028.000000</td>\n",
       "    </tr>\n",
       "    <tr>\n",
       "      <th>mean</th>\n",
       "      <td>2.206775</td>\n",
       "      <td>116.928988</td>\n",
       "      <td>1261.882296</td>\n",
       "      <td>7.041342</td>\n",
       "      <td>2002.126459</td>\n",
       "      <td>5.601267e+07</td>\n",
       "      <td>2.594305e+08</td>\n",
       "      <td>2.034178e+08</td>\n",
       "      <td>6.807799</td>\n",
       "    </tr>\n",
       "    <tr>\n",
       "      <th>std</th>\n",
       "      <td>2.268804</td>\n",
       "      <td>30.989740</td>\n",
       "      <td>1307.590677</td>\n",
       "      <td>0.414058</td>\n",
       "      <td>12.111843</td>\n",
       "      <td>5.190368e+07</td>\n",
       "      <td>3.227160e+08</td>\n",
       "      <td>2.952446e+08</td>\n",
       "      <td>0.391380</td>\n",
       "    </tr>\n",
       "    <tr>\n",
       "      <th>min</th>\n",
       "      <td>0.142486</td>\n",
       "      <td>3.000000</td>\n",
       "      <td>204.000000</td>\n",
       "      <td>6.400000</td>\n",
       "      <td>1960.000000</td>\n",
       "      <td>5.000000e+01</td>\n",
       "      <td>4.800000e+01</td>\n",
       "      <td>-1.185350e+08</td>\n",
       "      <td>6.329571</td>\n",
       "    </tr>\n",
       "    <tr>\n",
       "      <th>25%</th>\n",
       "      <td>1.044104</td>\n",
       "      <td>100.000000</td>\n",
       "      <td>429.250000</td>\n",
       "      <td>6.700000</td>\n",
       "      <td>1997.000000</td>\n",
       "      <td>2.026194e+07</td>\n",
       "      <td>6.182615e+07</td>\n",
       "      <td>3.310279e+07</td>\n",
       "      <td>6.493184</td>\n",
       "    </tr>\n",
       "    <tr>\n",
       "      <th>50%</th>\n",
       "      <td>1.577301</td>\n",
       "      <td>115.000000</td>\n",
       "      <td>747.500000</td>\n",
       "      <td>7.000000</td>\n",
       "      <td>2005.000000</td>\n",
       "      <td>3.688907e+07</td>\n",
       "      <td>1.333778e+08</td>\n",
       "      <td>9.553152e+07</td>\n",
       "      <td>6.709566</td>\n",
       "    </tr>\n",
       "    <tr>\n",
       "      <th>75%</th>\n",
       "      <td>2.610584</td>\n",
       "      <td>130.000000</td>\n",
       "      <td>1609.000000</td>\n",
       "      <td>7.300000</td>\n",
       "      <td>2012.000000</td>\n",
       "      <td>7.534988e+07</td>\n",
       "      <td>3.309649e+08</td>\n",
       "      <td>2.626620e+08</td>\n",
       "      <td>7.022218</td>\n",
       "    </tr>\n",
       "    <tr>\n",
       "      <th>max</th>\n",
       "      <td>32.985763</td>\n",
       "      <td>705.000000</td>\n",
       "      <td>9767.000000</td>\n",
       "      <td>8.400000</td>\n",
       "      <td>2015.000000</td>\n",
       "      <td>3.155006e+08</td>\n",
       "      <td>2.827124e+09</td>\n",
       "      <td>2.750137e+09</td>\n",
       "      <td>8.316969</td>\n",
       "    </tr>\n",
       "  </tbody>\n",
       "</table>\n",
       "</div>"
      ],
      "text/plain": [
       "        popularity      runtime   vote_count  vote_average  release_year  \\\n",
       "count  1028.000000  1028.000000  1028.000000   1028.000000   1028.000000   \n",
       "mean      2.206775   116.928988  1261.882296      7.041342   2002.126459   \n",
       "std       2.268804    30.989740  1307.590677      0.414058     12.111843   \n",
       "min       0.142486     3.000000   204.000000      6.400000   1960.000000   \n",
       "25%       1.044104   100.000000   429.250000      6.700000   1997.000000   \n",
       "50%       1.577301   115.000000   747.500000      7.000000   2005.000000   \n",
       "75%       2.610584   130.000000  1609.000000      7.300000   2012.000000   \n",
       "max      32.985763   705.000000  9767.000000      8.400000   2015.000000   \n",
       "\n",
       "         budget_adj   revenue_adj        profit        score  \n",
       "count  1.028000e+03  1.028000e+03  1.028000e+03  1028.000000  \n",
       "mean   5.601267e+07  2.594305e+08  2.034178e+08     6.807799  \n",
       "std    5.190368e+07  3.227160e+08  2.952446e+08     0.391380  \n",
       "min    5.000000e+01  4.800000e+01 -1.185350e+08     6.329571  \n",
       "25%    2.026194e+07  6.182615e+07  3.310279e+07     6.493184  \n",
       "50%    3.688907e+07  1.333778e+08  9.553152e+07     6.709566  \n",
       "75%    7.534988e+07  3.309649e+08  2.626620e+08     7.022218  \n",
       "max    3.155006e+08  2.827124e+09  2.750137e+09     8.316969  "
      ]
     },
     "execution_count": 49,
     "metadata": {},
     "output_type": "execute_result"
    }
   ],
   "source": [
    "High_score.describe()"
   ]
  },
  {
   "cell_type": "markdown",
   "metadata": {},
   "source": [
    ">the average revenue of the movies :260 million Dollars\\\n",
    ">the average runtime of the movies : around 2 Hours\\\n",
    ">the average profit of the movies :200 million Dollars\\\n",
    ">the average popularity of the movies :2 million\n"
   ]
  },
  {
   "cell_type": "code",
   "execution_count": 82,
   "metadata": {},
   "outputs": [
    {
     "data": {
      "image/png": "[encoded data removed]",
      "text/plain": [
       "<Figure size 1000x500 with 1 Axes>"
      ]
     },
     "metadata": {},
     "output_type": "display_data"
    }
   ],
   "source": [
    "\n",
    "plt.figure(figsize=(10,5), dpi = 100)\n",
    "\n",
    "# x-axis \n",
    "plt.xlabel('Movie popularity(Million)', fontsize = 15)\n",
    "# y-axis \n",
    "plt.ylabel('No. of Movies', fontsize=15)\n",
    "# distribution title\n",
    "plt.title('High Movie popularity Distribution', fontsize=15)\n",
    "\n",
    "# Plot the histogram\n",
    "plt.hist(High_score['popularity'], rwidth = 0.9, bins =35)\n",
    "\n",
    "# Displays the plot\n",
    "plt.show()"
   ]
  },
  {
   "cell_type": "markdown",
   "metadata": {},
   "source": [
    "> Visualization of the distribution of the score."
   ]
  },
  {
   "cell_type": "code",
   "execution_count": 67,
   "metadata": {},
   "outputs": [],
   "source": [
    "def extract_High_score_data(column):\n",
    "\n",
    "    data = High_score[column].str.cat(sep = '|')\n",
    "    \n",
    "    # create pandas series and store the values separately\n",
    "    data = pd.Series(data.split('|'))\n",
    "    \n",
    "    # display value count in descending order\n",
    "    count = data.value_counts(ascending = False)\n",
    "    \n",
    "    return count"
   ]
  },
  {
   "cell_type": "markdown",
   "metadata": {},
   "source": [
    "> create function to bring bake the cout values separately form string columns:\\\n",
    "cast , production companies , genres"
   ]
  },
  {
   "cell_type": "markdown",
   "metadata": {},
   "source": [
    "#### High score movies casts ??"
   ]
  },
  {
   "cell_type": "code",
   "execution_count": 71,
   "metadata": {},
   "outputs": [
    {
     "data": {
      "text/plain": [
       "Brad Pitt            25\n",
       "Robert De Niro       21\n",
       "Tom Hanks            19\n",
       "Johnny Depp          18\n",
       "Leonardo DiCaprio    17\n",
       "Denzel Washington    16\n",
       "Matt Damon           15\n",
       "Tom Cruise           15\n",
       "Samuel L. Jackson    14\n",
       "Al Pacino            14\n",
       "Ralph Fiennes        14\n",
       "Robin Williams       13\n",
       "Bruce Willis         13\n",
       "Christian Bale       13\n",
       "Woody Harrelson      12\n",
       "dtype: int64"
      ]
     },
     "execution_count": 71,
     "metadata": {},
     "output_type": "execute_result"
    }
   ],
   "source": [
    "vote_cast = extract_High_score_data('cast')\n",
    "\n",
    "# get top 10 casts\n",
    "\n",
    "vote_cast.head(10)"
   ]
  },
  {
   "cell_type": "markdown",
   "metadata": {},
   "source": [
    ">surprisingly, there is a swap from this high profit movies listing with the high score movie listing.\\\n",
    "Based on the result above Brad Pitt  have the most high score movies with 25 movies followed by Robert De Niro with 21 movies and have the same rank in high profit movies listing.\\\n",
    "As for female actress Nothing!!.\\\n",
    "Seems like there are more high score movies actors than actress as out of the 10 cast from the above list there are no one female."
   ]
  },
  {
   "cell_type": "markdown",
   "metadata": {},
   "source": [
    "#### High score movies director ??"
   ]
  },
  {
   "cell_type": "code",
   "execution_count": 73,
   "metadata": {},
   "outputs": [
    {
     "data": {
      "text/plain": [
       "Steven Spielberg     20\n",
       "Tim Burton           12\n",
       "Martin Scorsese      11\n",
       "Robert Zemeckis      10\n",
       "Quentin Tarantino    10\n",
       "Clint Eastwood        9\n",
       "Ridley Scott          9\n",
       "David Fincher         8\n",
       "Christopher Nolan     8\n",
       "Peter Jackson         8\n",
       "dtype: int64"
      ]
     },
     "execution_count": 73,
     "metadata": {},
     "output_type": "execute_result"
    }
   ],
   "source": [
    "# get top 10 directors\n",
    "score_director = extract_High_score_data('director')\n",
    "score_director.head(10)"
   ]
  },
  {
   "cell_type": "markdown",
   "metadata": {},
   "source": [
    ">As we see here Steven Spielberg have the largest number of high score movies with 20 movies\n",
    "who have the the largest number of high profit movies too ,followed by Tim Burton With 12 movies .\\\n",
    "*There is a difference here between high score movies directors listing and high profit movies directors listing."
   ]
  },
  {
   "cell_type": "markdown",
   "metadata": {},
   "source": [
    "#### High score movies genres ??"
   ]
  },
  {
   "cell_type": "code",
   "execution_count": 74,
   "metadata": {},
   "outputs": [
    {
     "data": {
      "text/plain": [
       "Drama              555\n",
       "Thriller           293\n",
       "Comedy             279\n",
       "Action             264\n",
       "Adventure          239\n",
       "Crime              182\n",
       "Romance            168\n",
       "Science Fiction    158\n",
       "Family             146\n",
       "Fantasy            128\n",
       "dtype: int64"
      ]
     },
     "execution_count": 74,
     "metadata": {},
     "output_type": "execute_result"
    }
   ],
   "source": [
    "# get top 10 genres\n",
    "score_genres = extract_High_score_data('genres')\n",
    "score_genres.head(10)"
   ]
  },
  {
   "cell_type": "markdown",
   "metadata": {},
   "source": [
    ">Based on the above result, Drame (555 movies) And swap between Thriller (293 movies) and Comedy in high score movies genres and high profit movies genres. Comedy came in third place in the list with 279 movies followed by Action genre with 264 movies.\n",
    "\n",
    "\n",
    "\n"
   ]
  },
  {
   "cell_type": "markdown",
   "metadata": {},
   "source": [
    "#### High score movies production companies ??"
   ]
  },
  {
   "cell_type": "code",
   "execution_count": 75,
   "metadata": {},
   "outputs": [
    {
     "data": {
      "text/plain": [
       "Warner Bros.                              121\n",
       "Universal Pictures                         85\n",
       "Paramount Pictures                         73\n",
       "Twentieth Century Fox Film Corporation     55\n",
       "Walt Disney Pictures                       51\n",
       "Columbia Pictures                          45\n",
       "New Line Cinema                            37\n",
       "Touchstone Pictures                        33\n",
       "DreamWorks SKG                             31\n",
       "Amblin Entertainment                       29\n",
       "dtype: int64"
      ]
     },
     "execution_count": 75,
     "metadata": {},
     "output_type": "execute_result"
    }
   ],
   "source": [
    "# get top 10 production_companies\n",
    "score_production_companies = extract_High_score_data('production_companies')\n",
    "score_production_companies.head(10)"
   ]
  },
  {
   "cell_type": "markdown",
   "metadata": {},
   "source": [
    ">Based on the above result, there is small difference between high score movies production company listing and high profit movies production company listing.\\\n",
    "Warner Bros has the largest number of high score movies with 121 movies followed by Universal Pictures with 85 movies which has the largest number of high profit movies and Paramount Pictures has the same rank in two lists.\n"
   ]
  },
  {
   "cell_type": "code",
   "execution_count": 126,
   "metadata": {},
   "outputs": [
    {
     "data": {
      "text/plain": [
       "Text(0, 0.5, 'runtime by Hours')"
      ]
     },
     "execution_count": 126,
     "metadata": {},
     "output_type": "execute_result"
    },
    {
     "data": {
      "image/png": "[encoded data removed]",
      "text/plain": [
       "<Figure size 432x288 with 1 Axes>"
      ]
     },
     "metadata": {},
     "output_type": "display_data"
    }
   ],
   "source": [
    "#what is the relation between the run time and popularity\n",
    "#dose the people like to watch the long movies more? \n",
    "\n",
    "plt.scatter(df['popularity']*1000000,df['runtime']/60)\n",
    "plt.xlabel('popularity by millions')\n",
    "plt.ylabel('runtime by Hours')"
   ]
  },
  {
   "cell_type": "markdown",
   "metadata": {},
   "source": [
    ">It's seemes that 2 houres is the most common runtime."
   ]
  },
  {
   "cell_type": "code",
   "execution_count": null,
   "metadata": {},
   "outputs": [],
   "source": []
  },
  {
   "cell_type": "markdown",
   "metadata": {},
   "source": [
    "<a id='conclusions'></a>\n",
    "## Conclusions\n",
    "\n"
   ]
  },
  {
   "cell_type": "markdown",
   "metadata": {
    "collapsed": true
   },
   "source": [
    ">My goal of this data analysis is to answer the 2 main questions \n",
    ">\n",
    "**Question 1 ( What kinds of properties are associated with movies that have high profits(profits above the mean (\"78211818.19530603\")?!\\\n",
    "Question 2 (What kinds of properties are associated with movies that have high Score (scores above the mean \"6.3\")?!**\\\n",
    "After the above analysis, I can conclude the following:\n",
    ">"
   ]
  },
  {
   "cell_type": "code",
   "execution_count": 199,
   "metadata": {},
   "outputs": [
    {
     "data": {
      "text/html": [
       "<div>\n",
       "<style scoped>\n",
       "    .dataframe tbody tr th:only-of-type {\n",
       "        vertical-align: middle;\n",
       "    }\n",
       "\n",
       "    .dataframe tbody tr th {\n",
       "        vertical-align: top;\n",
       "    }\n",
       "\n",
       "    .dataframe thead th {\n",
       "        text-align: right;\n",
       "    }\n",
       "</style>\n",
       "<table border=\"1\" class=\"dataframe\">\n",
       "  <thead>\n",
       "    <tr style=\"text-align: right;\">\n",
       "      <th></th>\n",
       "      <th>popularity</th>\n",
       "      <th>runtime</th>\n",
       "      <th>vote_count</th>\n",
       "      <th>vote_average</th>\n",
       "      <th>release_year</th>\n",
       "      <th>budget_adj</th>\n",
       "      <th>revenue_adj</th>\n",
       "      <th>profit</th>\n",
       "    </tr>\n",
       "  </thead>\n",
       "  <tbody>\n",
       "    <tr>\n",
       "      <th>count</th>\n",
       "      <td>2421.000000</td>\n",
       "      <td>2421.000000</td>\n",
       "      <td>2421.000000</td>\n",
       "      <td>2421.000000</td>\n",
       "      <td>2421.000000</td>\n",
       "      <td>2.421000e+03</td>\n",
       "      <td>2.421000e+03</td>\n",
       "      <td>2.421000e+03</td>\n",
       "    </tr>\n",
       "    <tr>\n",
       "      <th>mean</th>\n",
       "      <td>1.223623</td>\n",
       "      <td>107.457700</td>\n",
       "      <td>592.786452</td>\n",
       "      <td>6.053697</td>\n",
       "      <td>2000.266006</td>\n",
       "      <td>4.080258e+07</td>\n",
       "      <td>2.319849e+08</td>\n",
       "      <td>1.911823e+08</td>\n",
       "    </tr>\n",
       "    <tr>\n",
       "      <th>std</th>\n",
       "      <td>1.753380</td>\n",
       "      <td>26.735167</td>\n",
       "      <td>1046.769596</td>\n",
       "      <td>0.966561</td>\n",
       "      <td>13.196586</td>\n",
       "      <td>4.976538e+07</td>\n",
       "      <td>2.326270e+08</td>\n",
       "      <td>2.050917e+08</td>\n",
       "    </tr>\n",
       "    <tr>\n",
       "      <th>min</th>\n",
       "      <td>0.001349</td>\n",
       "      <td>4.000000</td>\n",
       "      <td>10.000000</td>\n",
       "      <td>1.500000</td>\n",
       "      <td>1960.000000</td>\n",
       "      <td>0.000000e+00</td>\n",
       "      <td>8.361457e+07</td>\n",
       "      <td>7.822307e+07</td>\n",
       "    </tr>\n",
       "    <tr>\n",
       "      <th>25%</th>\n",
       "      <td>0.318495</td>\n",
       "      <td>92.000000</td>\n",
       "      <td>26.000000</td>\n",
       "      <td>5.500000</td>\n",
       "      <td>1993.000000</td>\n",
       "      <td>6.098402e+06</td>\n",
       "      <td>1.151009e+08</td>\n",
       "      <td>1.045842e+08</td>\n",
       "    </tr>\n",
       "    <tr>\n",
       "      <th>50%</th>\n",
       "      <td>0.658866</td>\n",
       "      <td>102.000000</td>\n",
       "      <td>139.000000</td>\n",
       "      <td>6.100000</td>\n",
       "      <td>2004.000000</td>\n",
       "      <td>2.180000e+07</td>\n",
       "      <td>1.151009e+08</td>\n",
       "      <td>1.136462e+08</td>\n",
       "    </tr>\n",
       "    <tr>\n",
       "      <th>75%</th>\n",
       "      <td>1.525009</td>\n",
       "      <td>119.000000</td>\n",
       "      <td>677.000000</td>\n",
       "      <td>6.700000</td>\n",
       "      <td>2011.000000</td>\n",
       "      <td>5.689693e+07</td>\n",
       "      <td>2.530897e+08</td>\n",
       "      <td>1.844223e+08</td>\n",
       "    </tr>\n",
       "    <tr>\n",
       "      <th>max</th>\n",
       "      <td>32.985763</td>\n",
       "      <td>705.000000</td>\n",
       "      <td>9767.000000</td>\n",
       "      <td>8.400000</td>\n",
       "      <td>2015.000000</td>\n",
       "      <td>3.683713e+08</td>\n",
       "      <td>2.827124e+09</td>\n",
       "      <td>2.750137e+09</td>\n",
       "    </tr>\n",
       "  </tbody>\n",
       "</table>\n",
       "</div>"
      ],
      "text/plain": [
       "        popularity      runtime   vote_count  vote_average  release_year  \\\n",
       "count  2421.000000  2421.000000  2421.000000   2421.000000   2421.000000   \n",
       "mean      1.223623   107.457700   592.786452      6.053697   2000.266006   \n",
       "std       1.753380    26.735167  1046.769596      0.966561     13.196586   \n",
       "min       0.001349     4.000000    10.000000      1.500000   1960.000000   \n",
       "25%       0.318495    92.000000    26.000000      5.500000   1993.000000   \n",
       "50%       0.658866   102.000000   139.000000      6.100000   2004.000000   \n",
       "75%       1.525009   119.000000   677.000000      6.700000   2011.000000   \n",
       "max      32.985763   705.000000  9767.000000      8.400000   2015.000000   \n",
       "\n",
       "         budget_adj   revenue_adj        profit  \n",
       "count  2.421000e+03  2.421000e+03  2.421000e+03  \n",
       "mean   4.080258e+07  2.319849e+08  1.911823e+08  \n",
       "std    4.976538e+07  2.326270e+08  2.050917e+08  \n",
       "min    0.000000e+00  8.361457e+07  7.822307e+07  \n",
       "25%    6.098402e+06  1.151009e+08  1.045842e+08  \n",
       "50%    2.180000e+07  1.151009e+08  1.136462e+08  \n",
       "75%    5.689693e+07  2.530897e+08  1.844223e+08  \n",
       "max    3.683713e+08  2.827124e+09  2.750137e+09  "
      ]
     },
     "execution_count": 199,
     "metadata": {},
     "output_type": "execute_result"
    }
   ],
   "source": [
    "High_profit.describe()"
   ]
  },
  {
   "cell_type": "markdown",
   "metadata": {},
   "source": [
    "\n",
    ">Properties and attributes of the movies have a High profits :\n",
    ">\n",
    ">Average popularity of the movie 1.2236 million people.\\\n",
    "Average Budget must be around 40 Million Dollars\\\n",
    "Average revenue must be around 231 Million Dollars\\\n",
    "Year that makes the most profit: 2013.\\\n",
    "Actors to cast: Tom Cruise, Robert De Niro,Bruce Willis.\\\n",
    "Any one of these should be the director: Steven Spielberg, Woody Allen, Robert Zemeckis, Ron Howard.\\\n",
    "Popular production companies for high profit movies: Universal Pictures, Warner Bros, Paramount Pictures.\\\n",
    "Genre must any of these: Drama, Comedy, Thriller.\n",
    "\n"
   ]
  },
  {
   "cell_type": "code",
   "execution_count": 198,
   "metadata": {},
   "outputs": [
    {
     "data": {
      "text/html": [
       "<div>\n",
       "<style scoped>\n",
       "    .dataframe tbody tr th:only-of-type {\n",
       "        vertical-align: middle;\n",
       "    }\n",
       "\n",
       "    .dataframe tbody tr th {\n",
       "        vertical-align: top;\n",
       "    }\n",
       "\n",
       "    .dataframe thead th {\n",
       "        text-align: right;\n",
       "    }\n",
       "</style>\n",
       "<table border=\"1\" class=\"dataframe\">\n",
       "  <thead>\n",
       "    <tr style=\"text-align: right;\">\n",
       "      <th></th>\n",
       "      <th>popularity</th>\n",
       "      <th>runtime</th>\n",
       "      <th>vote_count</th>\n",
       "      <th>vote_average</th>\n",
       "      <th>release_year</th>\n",
       "      <th>budget_adj</th>\n",
       "      <th>revenue_adj</th>\n",
       "      <th>profit</th>\n",
       "      <th>score</th>\n",
       "    </tr>\n",
       "  </thead>\n",
       "  <tbody>\n",
       "    <tr>\n",
       "      <th>count</th>\n",
       "      <td>1028.000000</td>\n",
       "      <td>1028.000000</td>\n",
       "      <td>1028.000000</td>\n",
       "      <td>1028.000000</td>\n",
       "      <td>1028.000000</td>\n",
       "      <td>1.028000e+03</td>\n",
       "      <td>1.028000e+03</td>\n",
       "      <td>1.028000e+03</td>\n",
       "      <td>1028.000000</td>\n",
       "    </tr>\n",
       "    <tr>\n",
       "      <th>mean</th>\n",
       "      <td>2.206775</td>\n",
       "      <td>116.928988</td>\n",
       "      <td>1261.882296</td>\n",
       "      <td>7.041342</td>\n",
       "      <td>2002.126459</td>\n",
       "      <td>5.601267e+07</td>\n",
       "      <td>2.594305e+08</td>\n",
       "      <td>2.034178e+08</td>\n",
       "      <td>6.807799</td>\n",
       "    </tr>\n",
       "    <tr>\n",
       "      <th>std</th>\n",
       "      <td>2.268804</td>\n",
       "      <td>30.989740</td>\n",
       "      <td>1307.590677</td>\n",
       "      <td>0.414058</td>\n",
       "      <td>12.111843</td>\n",
       "      <td>5.190368e+07</td>\n",
       "      <td>3.227160e+08</td>\n",
       "      <td>2.952446e+08</td>\n",
       "      <td>0.391380</td>\n",
       "    </tr>\n",
       "    <tr>\n",
       "      <th>min</th>\n",
       "      <td>0.142486</td>\n",
       "      <td>3.000000</td>\n",
       "      <td>204.000000</td>\n",
       "      <td>6.400000</td>\n",
       "      <td>1960.000000</td>\n",
       "      <td>5.000000e+01</td>\n",
       "      <td>4.800000e+01</td>\n",
       "      <td>-1.185350e+08</td>\n",
       "      <td>6.329571</td>\n",
       "    </tr>\n",
       "    <tr>\n",
       "      <th>25%</th>\n",
       "      <td>1.044104</td>\n",
       "      <td>100.000000</td>\n",
       "      <td>429.250000</td>\n",
       "      <td>6.700000</td>\n",
       "      <td>1997.000000</td>\n",
       "      <td>2.026194e+07</td>\n",
       "      <td>6.182615e+07</td>\n",
       "      <td>3.310279e+07</td>\n",
       "      <td>6.493184</td>\n",
       "    </tr>\n",
       "    <tr>\n",
       "      <th>50%</th>\n",
       "      <td>1.577301</td>\n",
       "      <td>115.000000</td>\n",
       "      <td>747.500000</td>\n",
       "      <td>7.000000</td>\n",
       "      <td>2005.000000</td>\n",
       "      <td>3.688907e+07</td>\n",
       "      <td>1.333778e+08</td>\n",
       "      <td>9.553152e+07</td>\n",
       "      <td>6.709566</td>\n",
       "    </tr>\n",
       "    <tr>\n",
       "      <th>75%</th>\n",
       "      <td>2.610584</td>\n",
       "      <td>130.000000</td>\n",
       "      <td>1609.000000</td>\n",
       "      <td>7.300000</td>\n",
       "      <td>2012.000000</td>\n",
       "      <td>7.534988e+07</td>\n",
       "      <td>3.309649e+08</td>\n",
       "      <td>2.626620e+08</td>\n",
       "      <td>7.022218</td>\n",
       "    </tr>\n",
       "    <tr>\n",
       "      <th>max</th>\n",
       "      <td>32.985763</td>\n",
       "      <td>705.000000</td>\n",
       "      <td>9767.000000</td>\n",
       "      <td>8.400000</td>\n",
       "      <td>2015.000000</td>\n",
       "      <td>3.155006e+08</td>\n",
       "      <td>2.827124e+09</td>\n",
       "      <td>2.750137e+09</td>\n",
       "      <td>8.316969</td>\n",
       "    </tr>\n",
       "  </tbody>\n",
       "</table>\n",
       "</div>"
      ],
      "text/plain": [
       "        popularity      runtime   vote_count  vote_average  release_year  \\\n",
       "count  1028.000000  1028.000000  1028.000000   1028.000000   1028.000000   \n",
       "mean      2.206775   116.928988  1261.882296      7.041342   2002.126459   \n",
       "std       2.268804    30.989740  1307.590677      0.414058     12.111843   \n",
       "min       0.142486     3.000000   204.000000      6.400000   1960.000000   \n",
       "25%       1.044104   100.000000   429.250000      6.700000   1997.000000   \n",
       "50%       1.577301   115.000000   747.500000      7.000000   2005.000000   \n",
       "75%       2.610584   130.000000  1609.000000      7.300000   2012.000000   \n",
       "max      32.985763   705.000000  9767.000000      8.400000   2015.000000   \n",
       "\n",
       "         budget_adj   revenue_adj        profit        score  \n",
       "count  1.028000e+03  1.028000e+03  1.028000e+03  1028.000000  \n",
       "mean   5.601267e+07  2.594305e+08  2.034178e+08     6.807799  \n",
       "std    5.190368e+07  3.227160e+08  2.952446e+08     0.391380  \n",
       "min    5.000000e+01  4.800000e+01 -1.185350e+08     6.329571  \n",
       "25%    2.026194e+07  6.182615e+07  3.310279e+07     6.493184  \n",
       "50%    3.688907e+07  1.333778e+08  9.553152e+07     6.709566  \n",
       "75%    7.534988e+07  3.309649e+08  2.626620e+08     7.022218  \n",
       "max    3.155006e+08  2.827124e+09  2.750137e+09     8.316969  "
      ]
     },
     "execution_count": 198,
     "metadata": {},
     "output_type": "execute_result"
    }
   ],
   "source": [
    "High_score.describe()"
   ]
  },
  {
   "cell_type": "markdown",
   "metadata": {},
   "source": [
    ">For a movies to have a high score :\n",
    "\n",
    ">Average popularity of the movie 1.028 million people.\n",
    "Average Budget must be around 56 Million Dollars.\n",
    "Average revenue must be around 259 Million Dollars.\n",
    "Actors to cast: Brad Pitt,Robert De Niro, Tom Hanks.\n",
    "Any one of these should be the director: Steven Spielberg, Tim Burton, Martin Scorsese .\n",
    "Produce by any of these production companies:Warner Bros,Universal Pictures , Paramount Pictures .\n",
    "Genre must any of these: Drama, Thriller , Comedy.\n",
    "\n",
    "\n",
    "\n",
    ">By meeting the above criteria, the movie will have a higher probability to be a hit and earn an average revenue of around 282 million dollar and profit of at least 78 million dollars.\n",
    "\n"
   ]
  },
  {
   "cell_type": "markdown",
   "metadata": {},
   "source": [
    "General Questions :\n",
    "\n",
    "\n",
    "\n",
    ">. Which genres are most popular from year to year? \n",
    " it was always drama then comedy \n",
    "\n",
    ">. Who is the actor/s with highest movie revenues?\n",
    " Tom Cruise, Robert De Niro,Bruce Willis.\n",
    "\n",
    "\n",
    ">. Which company have the most movies productivity ?\n",
    "Universal Pictures 522 movies \n",
    "\n"
   ]
  },
  {
   "cell_type": "markdown",
   "metadata": {},
   "source": [
    ">. Which genres are most popular from year to year?"
   ]
  },
  {
   "cell_type": "code",
   "execution_count": 211,
   "metadata": {
    "scrolled": true
   },
   "outputs": [
    {
     "data": {
      "text/plain": [
       "<matplotlib.axes._subplots.AxesSubplot at 0x1a316f4390>"
      ]
     },
     "execution_count": 211,
     "metadata": {},
     "output_type": "execute_result"
    },
    {
     "data": {
      "image/png": "[encoded data removed]",
      "text/plain": [
       "<Figure size 1080x1080 with 1 Axes>"
      ]
     },
     "metadata": {},
     "output_type": "display_data"
    }
   ],
   "source": [
    "#. Which genres are most popular from year to year? \n",
    "x = df.set_index('release_year').genres.str.split(r'|', expand=True).stack().reset_index(level=1, drop=True).to_frame('genres');\n",
    "genres_popular=pd.get_dummies(x, prefix='g', columns=['genres']).groupby(level=0).sum()\n",
    "\n",
    "#Get row index label of Maximum value in every column\n",
    "maxValue= genres_popular.idxmax(axis=1)\n",
    "maxValue\n",
    "j=maxValue.drop_duplicates()\n",
    "\n",
    "#ploting\n",
    "\n",
    "genres_popular.plot(kind='bar', y=j ,figsize=(15,15))\n"
   ]
  },
  {
   "cell_type": "markdown",
   "metadata": {},
   "source": [
    "> . Which company have the most movies productivity ?"
   ]
  },
  {
   "cell_type": "code",
   "execution_count": 212,
   "metadata": {
    "scrolled": true
   },
   "outputs": [
    {
     "data": {
      "text/plain": [
       "Universal Pictures                        522\n",
       "Warner Bros.                              509\n",
       "Paramount Pictures                        431\n",
       "Twentieth Century Fox Film Corporation    282\n",
       "Columbia Pictures                         272\n",
       "                                         ... \n",
       "FM Productions                              1\n",
       "Seon Film Productions                       1\n",
       "Broadview Pictures                          1\n",
       "Celluloid Dreams Productions                1\n",
       "Innocence Productions                       1\n",
       "Length: 7879, dtype: int64"
      ]
     },
     "execution_count": 212,
     "metadata": {},
     "output_type": "execute_result"
    }
   ],
   "source": [
    "def High_prodecution(column):\n",
    "\n",
    "    data = df[column].str.cat(sep = '|')\n",
    "    \n",
    "    # create pandas series and store the values separately\n",
    "    data = pd.Series(data.split('|'))\n",
    "    \n",
    "    # display value count in descending order\n",
    "    count = data.value_counts(ascending = False)\n",
    "    \n",
    "    return count\n",
    "\n",
    "\n",
    "\n",
    "High_prodecution('production_companies')"
   ]
  },
  {
   "cell_type": "code",
   "execution_count": null,
   "metadata": {},
   "outputs": [],
   "source": []
  }
 ],
 "metadata": {
  "celltoolbar": "Raw Cell Format",
  "kernelspec": {
   "display_name": "Python 3",
   "language": "python",
   "name": "python3"
  },
  "language_info": {
   "codemirror_mode": {
    "name": "ipython",
    "version": 3
   },
   "file_extension": ".py",
   "mimetype": "text/x-python",
   "name": "python",
   "nbconvert_exporter": "python",
   "pygments_lexer": "ipython3",
   "version": "3.7.6"
  }
 },
 "nbformat": 4,
 "nbformat_minor": 2
}
